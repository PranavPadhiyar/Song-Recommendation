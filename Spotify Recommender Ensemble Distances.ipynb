{
  "cells": [
    {
      "cell_type": "code",
      "execution_count": 3,
      "metadata": {},
      "outputs": [],
      "source": [
        "import numpy as np\n",
        "import pandas as pd\n",
        "import matplotlib.pyplot as plt\n",
        "import plotly.express as px \n",
        "import seaborn as sns\n",
        "import spotipy\n",
        "import os\n",
        "%matplotlib inline\n",
        "import warnings\n",
        "from sklearn.pipeline import Pipeline\n",
        "from tqdm import tqdm\n",
        "from pandas import Series\n",
        "from sklearn.cluster import KMeans\n",
        "from sklearn.preprocessing import StandardScaler\n",
        "from sklearn.pipeline import Pipeline"
      ]
    },
    {
      "cell_type": "markdown",
      "metadata": {},
      "source": [
        "Read Dataset from CSV Files - Tracks & Artists"
      ]
    },
    {
      "cell_type": "code",
      "execution_count": 4,
      "metadata": {},
      "outputs": [],
      "source": [
        "tracks_data = pd.read_csv('/Users/pranavpadhiyar/Desktop/GBC/Applied_AI/April/Full_Stack/Project/data/tracks.csv')"
      ]
    },
    {
      "cell_type": "markdown",
      "metadata": {},
      "source": [
        "## 1. EDA"
      ]
    },
    {
      "cell_type": "code",
      "execution_count": 5,
      "metadata": {},
      "outputs": [
        {
          "name": "stdout",
          "output_type": "stream",
          "text": [
            "(586672, 20)\n"
          ]
        },
        {
          "data": {
            "text/html": [
              "<div>\n",
              "<style scoped>\n",
              "    .dataframe tbody tr th:only-of-type {\n",
              "        vertical-align: middle;\n",
              "    }\n",
              "\n",
              "    .dataframe tbody tr th {\n",
              "        vertical-align: top;\n",
              "    }\n",
              "\n",
              "    .dataframe thead th {\n",
              "        text-align: right;\n",
              "    }\n",
              "</style>\n",
              "<table border=\"1\" class=\"dataframe\">\n",
              "  <thead>\n",
              "    <tr style=\"text-align: right;\">\n",
              "      <th></th>\n",
              "      <th>id</th>\n",
              "      <th>name</th>\n",
              "      <th>popularity</th>\n",
              "      <th>duration_ms</th>\n",
              "      <th>explicit</th>\n",
              "      <th>artists</th>\n",
              "      <th>id_artists</th>\n",
              "      <th>release_date</th>\n",
              "      <th>danceability</th>\n",
              "      <th>energy</th>\n",
              "      <th>key</th>\n",
              "      <th>loudness</th>\n",
              "      <th>mode</th>\n",
              "      <th>speechiness</th>\n",
              "      <th>acousticness</th>\n",
              "      <th>instrumentalness</th>\n",
              "      <th>liveness</th>\n",
              "      <th>valence</th>\n",
              "      <th>tempo</th>\n",
              "      <th>time_signature</th>\n",
              "    </tr>\n",
              "  </thead>\n",
              "  <tbody>\n",
              "    <tr>\n",
              "      <th>0</th>\n",
              "      <td>35iwgR4jXetI318WEWsa1Q</td>\n",
              "      <td>Carve</td>\n",
              "      <td>6</td>\n",
              "      <td>126903</td>\n",
              "      <td>0</td>\n",
              "      <td>['Uli']</td>\n",
              "      <td>['45tIt06XoI0Iio4LBEVpls']</td>\n",
              "      <td>1922-02-22</td>\n",
              "      <td>0.645</td>\n",
              "      <td>0.4450</td>\n",
              "      <td>0</td>\n",
              "      <td>-13.338</td>\n",
              "      <td>1</td>\n",
              "      <td>0.4510</td>\n",
              "      <td>0.674</td>\n",
              "      <td>0.744000</td>\n",
              "      <td>0.1510</td>\n",
              "      <td>0.1270</td>\n",
              "      <td>104.851</td>\n",
              "      <td>3</td>\n",
              "    </tr>\n",
              "    <tr>\n",
              "      <th>1</th>\n",
              "      <td>021ht4sdgPcrDgSk7JTbKY</td>\n",
              "      <td>Capítulo 2.16 - Banquero Anarquista</td>\n",
              "      <td>0</td>\n",
              "      <td>98200</td>\n",
              "      <td>0</td>\n",
              "      <td>['Fernando Pessoa']</td>\n",
              "      <td>['14jtPCOoNZwquk5wd9DxrY']</td>\n",
              "      <td>1922-06-01</td>\n",
              "      <td>0.695</td>\n",
              "      <td>0.2630</td>\n",
              "      <td>0</td>\n",
              "      <td>-22.136</td>\n",
              "      <td>1</td>\n",
              "      <td>0.9570</td>\n",
              "      <td>0.797</td>\n",
              "      <td>0.000000</td>\n",
              "      <td>0.1480</td>\n",
              "      <td>0.6550</td>\n",
              "      <td>102.009</td>\n",
              "      <td>1</td>\n",
              "    </tr>\n",
              "    <tr>\n",
              "      <th>2</th>\n",
              "      <td>07A5yehtSnoedViJAZkNnc</td>\n",
              "      <td>Vivo para Quererte - Remasterizado</td>\n",
              "      <td>0</td>\n",
              "      <td>181640</td>\n",
              "      <td>0</td>\n",
              "      <td>['Ignacio Corsini']</td>\n",
              "      <td>['5LiOoJbxVSAMkBS2fUm3X2']</td>\n",
              "      <td>1922-03-21</td>\n",
              "      <td>0.434</td>\n",
              "      <td>0.1770</td>\n",
              "      <td>1</td>\n",
              "      <td>-21.180</td>\n",
              "      <td>1</td>\n",
              "      <td>0.0512</td>\n",
              "      <td>0.994</td>\n",
              "      <td>0.021800</td>\n",
              "      <td>0.2120</td>\n",
              "      <td>0.4570</td>\n",
              "      <td>130.418</td>\n",
              "      <td>5</td>\n",
              "    </tr>\n",
              "    <tr>\n",
              "      <th>3</th>\n",
              "      <td>08FmqUhxtyLTn6pAh6bk45</td>\n",
              "      <td>El Prisionero - Remasterizado</td>\n",
              "      <td>0</td>\n",
              "      <td>176907</td>\n",
              "      <td>0</td>\n",
              "      <td>['Ignacio Corsini']</td>\n",
              "      <td>['5LiOoJbxVSAMkBS2fUm3X2']</td>\n",
              "      <td>1922-03-21</td>\n",
              "      <td>0.321</td>\n",
              "      <td>0.0946</td>\n",
              "      <td>7</td>\n",
              "      <td>-27.961</td>\n",
              "      <td>1</td>\n",
              "      <td>0.0504</td>\n",
              "      <td>0.995</td>\n",
              "      <td>0.918000</td>\n",
              "      <td>0.1040</td>\n",
              "      <td>0.3970</td>\n",
              "      <td>169.980</td>\n",
              "      <td>3</td>\n",
              "    </tr>\n",
              "    <tr>\n",
              "      <th>4</th>\n",
              "      <td>08y9GfoqCWfOGsKdwojr5e</td>\n",
              "      <td>Lady of the Evening</td>\n",
              "      <td>0</td>\n",
              "      <td>163080</td>\n",
              "      <td>0</td>\n",
              "      <td>['Dick Haymes']</td>\n",
              "      <td>['3BiJGZsyX9sJchTqcSA7Su']</td>\n",
              "      <td>1922</td>\n",
              "      <td>0.402</td>\n",
              "      <td>0.1580</td>\n",
              "      <td>3</td>\n",
              "      <td>-16.900</td>\n",
              "      <td>0</td>\n",
              "      <td>0.0390</td>\n",
              "      <td>0.989</td>\n",
              "      <td>0.130000</td>\n",
              "      <td>0.3110</td>\n",
              "      <td>0.1960</td>\n",
              "      <td>103.220</td>\n",
              "      <td>4</td>\n",
              "    </tr>\n",
              "    <tr>\n",
              "      <th>5</th>\n",
              "      <td>0BRXJHRNGQ3W4v9frnSfhu</td>\n",
              "      <td>Ave Maria</td>\n",
              "      <td>0</td>\n",
              "      <td>178933</td>\n",
              "      <td>0</td>\n",
              "      <td>['Dick Haymes']</td>\n",
              "      <td>['3BiJGZsyX9sJchTqcSA7Su']</td>\n",
              "      <td>1922</td>\n",
              "      <td>0.227</td>\n",
              "      <td>0.2610</td>\n",
              "      <td>5</td>\n",
              "      <td>-12.343</td>\n",
              "      <td>1</td>\n",
              "      <td>0.0382</td>\n",
              "      <td>0.994</td>\n",
              "      <td>0.247000</td>\n",
              "      <td>0.0977</td>\n",
              "      <td>0.0539</td>\n",
              "      <td>118.891</td>\n",
              "      <td>4</td>\n",
              "    </tr>\n",
              "    <tr>\n",
              "      <th>6</th>\n",
              "      <td>0Dd9ImXtAtGwsmsAD69KZT</td>\n",
              "      <td>La Butte Rouge</td>\n",
              "      <td>0</td>\n",
              "      <td>134467</td>\n",
              "      <td>0</td>\n",
              "      <td>['Francis Marty']</td>\n",
              "      <td>['2nuMRGzeJ5jJEKlfS7rZ0W']</td>\n",
              "      <td>1922</td>\n",
              "      <td>0.510</td>\n",
              "      <td>0.3550</td>\n",
              "      <td>4</td>\n",
              "      <td>-12.833</td>\n",
              "      <td>1</td>\n",
              "      <td>0.1240</td>\n",
              "      <td>0.965</td>\n",
              "      <td>0.000000</td>\n",
              "      <td>0.1550</td>\n",
              "      <td>0.7270</td>\n",
              "      <td>85.754</td>\n",
              "      <td>5</td>\n",
              "    </tr>\n",
              "    <tr>\n",
              "      <th>7</th>\n",
              "      <td>0IA0Hju8CAgYfV1hwhidBH</td>\n",
              "      <td>La Java</td>\n",
              "      <td>0</td>\n",
              "      <td>161427</td>\n",
              "      <td>0</td>\n",
              "      <td>['Mistinguett']</td>\n",
              "      <td>['4AxgXfD7ISvJSTObqm4aIE']</td>\n",
              "      <td>1922</td>\n",
              "      <td>0.563</td>\n",
              "      <td>0.1840</td>\n",
              "      <td>4</td>\n",
              "      <td>-13.757</td>\n",
              "      <td>1</td>\n",
              "      <td>0.0512</td>\n",
              "      <td>0.993</td>\n",
              "      <td>0.000016</td>\n",
              "      <td>0.3250</td>\n",
              "      <td>0.6540</td>\n",
              "      <td>133.088</td>\n",
              "      <td>3</td>\n",
              "    </tr>\n",
              "    <tr>\n",
              "      <th>8</th>\n",
              "      <td>0IgI1UCz84pYeVetnl1lGP</td>\n",
              "      <td>Old Fashioned Girl</td>\n",
              "      <td>0</td>\n",
              "      <td>310073</td>\n",
              "      <td>0</td>\n",
              "      <td>['Greg Fieler']</td>\n",
              "      <td>['5nWlsH5RDgFuRAiDeOFVmf']</td>\n",
              "      <td>1922</td>\n",
              "      <td>0.488</td>\n",
              "      <td>0.4750</td>\n",
              "      <td>0</td>\n",
              "      <td>-16.222</td>\n",
              "      <td>0</td>\n",
              "      <td>0.0399</td>\n",
              "      <td>0.620</td>\n",
              "      <td>0.006450</td>\n",
              "      <td>0.1070</td>\n",
              "      <td>0.5440</td>\n",
              "      <td>139.952</td>\n",
              "      <td>4</td>\n",
              "    </tr>\n",
              "    <tr>\n",
              "      <th>9</th>\n",
              "      <td>0JV4iqw2lSKJaHBQZ0e5zK</td>\n",
              "      <td>Martín Fierro - Remasterizado</td>\n",
              "      <td>0</td>\n",
              "      <td>181173</td>\n",
              "      <td>0</td>\n",
              "      <td>['Ignacio Corsini']</td>\n",
              "      <td>['5LiOoJbxVSAMkBS2fUm3X2']</td>\n",
              "      <td>1922-03-29</td>\n",
              "      <td>0.548</td>\n",
              "      <td>0.0391</td>\n",
              "      <td>6</td>\n",
              "      <td>-23.228</td>\n",
              "      <td>1</td>\n",
              "      <td>0.1530</td>\n",
              "      <td>0.996</td>\n",
              "      <td>0.933000</td>\n",
              "      <td>0.1480</td>\n",
              "      <td>0.6120</td>\n",
              "      <td>75.595</td>\n",
              "      <td>3</td>\n",
              "    </tr>\n",
              "  </tbody>\n",
              "</table>\n",
              "</div>"
            ],
            "text/plain": [
              "                       id                                 name  popularity  \\\n",
              "0  35iwgR4jXetI318WEWsa1Q                                Carve           6   \n",
              "1  021ht4sdgPcrDgSk7JTbKY  Capítulo 2.16 - Banquero Anarquista           0   \n",
              "2  07A5yehtSnoedViJAZkNnc   Vivo para Quererte - Remasterizado           0   \n",
              "3  08FmqUhxtyLTn6pAh6bk45        El Prisionero - Remasterizado           0   \n",
              "4  08y9GfoqCWfOGsKdwojr5e                  Lady of the Evening           0   \n",
              "5  0BRXJHRNGQ3W4v9frnSfhu                            Ave Maria           0   \n",
              "6  0Dd9ImXtAtGwsmsAD69KZT                       La Butte Rouge           0   \n",
              "7  0IA0Hju8CAgYfV1hwhidBH                              La Java           0   \n",
              "8  0IgI1UCz84pYeVetnl1lGP                   Old Fashioned Girl           0   \n",
              "9  0JV4iqw2lSKJaHBQZ0e5zK        Martín Fierro - Remasterizado           0   \n",
              "\n",
              "   duration_ms  explicit              artists                  id_artists  \\\n",
              "0       126903         0              ['Uli']  ['45tIt06XoI0Iio4LBEVpls']   \n",
              "1        98200         0  ['Fernando Pessoa']  ['14jtPCOoNZwquk5wd9DxrY']   \n",
              "2       181640         0  ['Ignacio Corsini']  ['5LiOoJbxVSAMkBS2fUm3X2']   \n",
              "3       176907         0  ['Ignacio Corsini']  ['5LiOoJbxVSAMkBS2fUm3X2']   \n",
              "4       163080         0      ['Dick Haymes']  ['3BiJGZsyX9sJchTqcSA7Su']   \n",
              "5       178933         0      ['Dick Haymes']  ['3BiJGZsyX9sJchTqcSA7Su']   \n",
              "6       134467         0    ['Francis Marty']  ['2nuMRGzeJ5jJEKlfS7rZ0W']   \n",
              "7       161427         0      ['Mistinguett']  ['4AxgXfD7ISvJSTObqm4aIE']   \n",
              "8       310073         0      ['Greg Fieler']  ['5nWlsH5RDgFuRAiDeOFVmf']   \n",
              "9       181173         0  ['Ignacio Corsini']  ['5LiOoJbxVSAMkBS2fUm3X2']   \n",
              "\n",
              "  release_date  danceability  energy  key  loudness  mode  speechiness  \\\n",
              "0   1922-02-22         0.645  0.4450    0   -13.338     1       0.4510   \n",
              "1   1922-06-01         0.695  0.2630    0   -22.136     1       0.9570   \n",
              "2   1922-03-21         0.434  0.1770    1   -21.180     1       0.0512   \n",
              "3   1922-03-21         0.321  0.0946    7   -27.961     1       0.0504   \n",
              "4         1922         0.402  0.1580    3   -16.900     0       0.0390   \n",
              "5         1922         0.227  0.2610    5   -12.343     1       0.0382   \n",
              "6         1922         0.510  0.3550    4   -12.833     1       0.1240   \n",
              "7         1922         0.563  0.1840    4   -13.757     1       0.0512   \n",
              "8         1922         0.488  0.4750    0   -16.222     0       0.0399   \n",
              "9   1922-03-29         0.548  0.0391    6   -23.228     1       0.1530   \n",
              "\n",
              "   acousticness  instrumentalness  liveness  valence    tempo  time_signature  \n",
              "0         0.674          0.744000    0.1510   0.1270  104.851               3  \n",
              "1         0.797          0.000000    0.1480   0.6550  102.009               1  \n",
              "2         0.994          0.021800    0.2120   0.4570  130.418               5  \n",
              "3         0.995          0.918000    0.1040   0.3970  169.980               3  \n",
              "4         0.989          0.130000    0.3110   0.1960  103.220               4  \n",
              "5         0.994          0.247000    0.0977   0.0539  118.891               4  \n",
              "6         0.965          0.000000    0.1550   0.7270   85.754               5  \n",
              "7         0.993          0.000016    0.3250   0.6540  133.088               3  \n",
              "8         0.620          0.006450    0.1070   0.5440  139.952               4  \n",
              "9         0.996          0.933000    0.1480   0.6120   75.595               3  "
            ]
          },
          "execution_count": 5,
          "metadata": {},
          "output_type": "execute_result"
        }
      ],
      "source": [
        "print(tracks_data.shape)\n",
        "tracks_data.head(10)"
      ]
    },
    {
      "cell_type": "code",
      "execution_count": 6,
      "metadata": {},
      "outputs": [],
      "source": [
        "tracks_data['year'] = tracks_data['release_date'].str[:4]"
      ]
    },
    {
      "cell_type": "code",
      "execution_count": 7,
      "metadata": {},
      "outputs": [],
      "source": [
        "tracks_data['year'] = tracks_data['year'].astype('int64')"
      ]
    },
    {
      "cell_type": "code",
      "execution_count": 8,
      "metadata": {},
      "outputs": [],
      "source": [
        "# Create a function to map tempo to class\n",
        "def map_tempo_to_class(tempo):\n",
        "    if tempo <= 90:\n",
        "        return 'class1'\n",
        "    elif tempo <= 130:\n",
        "        return 'class2'\n",
        "    else:\n",
        "        return 'class3'\n",
        "\n"
      ]
    },
    {
      "cell_type": "code",
      "execution_count": 9,
      "metadata": {},
      "outputs": [],
      "source": [
        "# Apply the function to the 'tempo' column and create a new column 'tempo_class'\n",
        "tracks_data['tempo_class'] = tracks_data['tempo'].apply(lambda x: map_tempo_to_class(x))"
      ]
    },
    {
      "cell_type": "code",
      "execution_count": 10,
      "metadata": {},
      "outputs": [
        {
          "data": {
            "text/plain": [
              "0         class2\n",
              "1         class2\n",
              "2         class3\n",
              "3         class3\n",
              "4         class2\n",
              "           ...  \n",
              "586667    class3\n",
              "586668    class3\n",
              "586669    class3\n",
              "586670    class2\n",
              "586671    class2\n",
              "Name: tempo_class, Length: 586672, dtype: object"
            ]
          },
          "execution_count": 10,
          "metadata": {},
          "output_type": "execute_result"
        }
      ],
      "source": [
        "tracks_data['tempo_class']"
      ]
    },
    {
      "cell_type": "code",
      "execution_count": 11,
      "metadata": {},
      "outputs": [
        {
          "name": "stdout",
          "output_type": "stream",
          "text": [
            "<class 'pandas.core.frame.DataFrame'>\n",
            "RangeIndex: 586672 entries, 0 to 586671\n",
            "Data columns (total 22 columns):\n",
            " #   Column            Non-Null Count   Dtype  \n",
            "---  ------            --------------   -----  \n",
            " 0   id                586672 non-null  object \n",
            " 1   name              586601 non-null  object \n",
            " 2   popularity        586672 non-null  int64  \n",
            " 3   duration_ms       586672 non-null  int64  \n",
            " 4   explicit          586672 non-null  int64  \n",
            " 5   artists           586672 non-null  object \n",
            " 6   id_artists        586672 non-null  object \n",
            " 7   release_date      586672 non-null  object \n",
            " 8   danceability      586672 non-null  float64\n",
            " 9   energy            586672 non-null  float64\n",
            " 10  key               586672 non-null  int64  \n",
            " 11  loudness          586672 non-null  float64\n",
            " 12  mode              586672 non-null  int64  \n",
            " 13  speechiness       586672 non-null  float64\n",
            " 14  acousticness      586672 non-null  float64\n",
            " 15  instrumentalness  586672 non-null  float64\n",
            " 16  liveness          586672 non-null  float64\n",
            " 17  valence           586672 non-null  float64\n",
            " 18  tempo             586672 non-null  float64\n",
            " 19  time_signature    586672 non-null  int64  \n",
            " 20  year              586672 non-null  int64  \n",
            " 21  tempo_class       586672 non-null  object \n",
            "dtypes: float64(9), int64(7), object(6)\n",
            "memory usage: 98.5+ MB\n"
          ]
        }
      ],
      "source": [
        "tracks_data.info()"
      ]
    },
    {
      "cell_type": "markdown",
      "metadata": {},
      "source": [
        "## 2. Preprocessing"
      ]
    },
    {
      "cell_type": "code",
      "execution_count": 13,
      "metadata": {},
      "outputs": [
        {
          "data": {
            "text/plain": [
              "id                   0\n",
              "name                71\n",
              "popularity           0\n",
              "duration_ms          0\n",
              "explicit             0\n",
              "artists              0\n",
              "id_artists           0\n",
              "release_date         0\n",
              "danceability         0\n",
              "energy               0\n",
              "key                  0\n",
              "loudness             0\n",
              "mode                 0\n",
              "speechiness          0\n",
              "acousticness         0\n",
              "instrumentalness     0\n",
              "liveness             0\n",
              "valence              0\n",
              "tempo                0\n",
              "time_signature       0\n",
              "year                 0\n",
              "tempo_class          0\n",
              "dtype: int64"
            ]
          },
          "execution_count": 13,
          "metadata": {},
          "output_type": "execute_result"
        }
      ],
      "source": [
        "tracks_data.isna().sum()"
      ]
    },
    {
      "cell_type": "code",
      "execution_count": 14,
      "metadata": {},
      "outputs": [],
      "source": [
        "tracks_data.dropna(inplace=True)"
      ]
    },
    {
      "cell_type": "markdown",
      "metadata": {},
      "source": [
        "All good with Genre Data dataframe as seen below"
      ]
    },
    {
      "cell_type": "code",
      "execution_count": 16,
      "metadata": {},
      "outputs": [],
      "source": [
        "tracks_data = tracks_data.drop_duplicates(subset=['name', 'artists'])"
      ]
    },
    {
      "cell_type": "markdown",
      "metadata": {},
      "source": [
        "Let's check for correlation of features\n",
        "\n",
        "### Pearson Correlation"
      ]
    },
    {
      "cell_type": "code",
      "execution_count": 20,
      "metadata": {},
      "outputs": [
        {
          "data": {
            "image/png": "[encoded data removed]",
            "text/plain": [
              "<Figure size 500x500 with 1 Axes>"
            ]
          },
          "metadata": {},
          "output_type": "display_data"
        },
        {
          "data": {
            "text/plain": [
              "<Axes: title={'center': 'Features correlation with dependent variable'}, xlabel='Pearson Correlation'>"
            ]
          },
          "execution_count": 20,
          "metadata": {},
          "output_type": "execute_result"
        }
      ],
      "source": [
        "from yellowbrick.target import FeatureCorrelation\n",
        "\n",
        "feature_names = ['acousticness', 'danceability', 'energy', 'instrumentalness',\n",
        "       'liveness', 'loudness', 'speechiness', 'tempo', 'valence','duration_ms','explicit','key','mode','year']\n",
        "\n",
        "X, y = tracks_data[feature_names], tracks_data['popularity']\n",
        "\n",
        "# Convert non-numeric values to NaN and then convert to float\n",
        "X = X.apply(pd.to_numeric, errors='coerce').astype('float64')\n",
        "y = pd.to_numeric(y, errors='coerce').astype('float64')\n",
        "\n",
        "# Create a list of the feature names\n",
        "features = np.array(feature_names)\n",
        "\n",
        "# Instantiate the visualizer\n",
        "visualizer = FeatureCorrelation(labels=features)\n",
        "\n",
        "plt.rcParams['figure.figsize']=(5,5)\n",
        "visualizer.fit(X, y)     # Fit the data to the visualizer\n",
        "visualizer.show()"
      ]
    },
    {
      "cell_type": "markdown",
      "metadata": {},
      "source": [
        "As we can see, loudness greatly correlates with energy/accousticness and accousticness correlates with energy."
      ]
    },
    {
      "cell_type": "markdown",
      "metadata": {},
      "source": [
        "### Clustering Algorithms\n",
        "Clustering is the process of grouping observations of similar kinds into smaller groups within the larger population. It has a widespread application in business analytics. One of the questions facing businesses is how to organize the huge amounts of available data into meaningful structures.\n",
        "\n",
        "We will be trying out various clustering algorithms to fit out data into groups of cluster which will then be used by our ML model in the recommender system.\n",
        "\n",
        "we tried 4 different clustering techniques:\n",
        "\n",
        "- Kmeans\n",
        "- BIRCH\n",
        "- C means\n",
        "- Gausian Mixture"
      ]
    },
    {
      "cell_type": "code",
      "execution_count": 21,
      "metadata": {},
      "outputs": [],
      "source": [
        "df = tracks_data.select_dtypes(np.number)\n",
        "number_cols = list(df.columns)"
      ]
    },
    {
      "cell_type": "markdown",
      "metadata": {},
      "source": [
        "### Standard Scaler\n",
        "Before Clustering our data we need to scale down the features to to a given range so that the clustering algorithm dosen't favour a particular feature just because it has a greater value\n",
        "\n",
        "we will be using Standard Scaler from the sci-kit learn library to scale down our data."
      ]
    },
    {
      "cell_type": "code",
      "execution_count": 22,
      "metadata": {},
      "outputs": [],
      "source": [
        "from sklearn.preprocessing import StandardScaler\n",
        "scaler = StandardScaler()\n",
        "\n",
        "scaled_X = scaler.fit_transform(df.values)\n",
        "\n",
        "scaled_df = pd.DataFrame(scaled_X,\n",
        "columns=df.columns)"
      ]
    },
    {
      "cell_type": "markdown",
      "metadata": {},
      "source": [
        "### PCA\n",
        "Linear dimensionality reduction using Singular Value Decomposition of the data to project it to a lower dimensional space. The input data is centered but not scaled for each feature before applying the SVD."
      ]
    },
    {
      "cell_type": "code",
      "execution_count": 23,
      "metadata": {},
      "outputs": [],
      "source": [
        "from sklearn.decomposition import PCA\n",
        "pca = PCA(n_components=2)\n",
        "\n",
        "pca.fit(scaled_df)\n",
        "\n",
        "pca_df = pca.transform(scaled_df)"
      ]
    },
    {
      "cell_type": "code",
      "execution_count": 24,
      "metadata": {},
      "outputs": [],
      "source": [
        "from sklearn import metrics\n",
        "dict1 = {}"
      ]
    },
    {
      "cell_type": "markdown",
      "metadata": {},
      "source": [
        "### 1. Kmeans Clustering\n",
        "K-Means clustering is an unsupervised learning algorithm, which is used when you have unlabeled data. The aim of this algorithm is to find groups in the data. K-means clustering algorithm has many uses for grouping text documents, images, videos, and much more. It works iteratively to assign each data point to one of the groups based on the Euclidean distance."
      ]
    },
    {
      "cell_type": "code",
      "execution_count": 25,
      "metadata": {},
      "outputs": [
        {
          "name": "stderr",
          "output_type": "stream",
          "text": [
            "/Users/pranavpadhiyar/miniforge3/envs/tf_gpu_2/lib/python3.10/site-packages/sklearn/cluster/_kmeans.py:870: FutureWarning:\n",
            "\n",
            "The default value of `n_init` will change from 10 to 'auto' in 1.4. Set the value of `n_init` explicitly to suppress the warning\n",
            "\n"
          ]
        },
        {
          "name": "stdout",
          "output_type": "stream",
          "text": [
            "Initialization complete\n",
            "Iteration 0, inertia 456052.64166253235.\n",
            "Iteration 1, inertia 390832.30360813707.\n",
            "Iteration 2, inertia 384823.7855642702.\n",
            "Iteration 3, inertia 381916.5121574792.\n",
            "Iteration 4, inertia 379697.50257940125.\n",
            "Iteration 5, inertia 377517.00952362246.\n",
            "Iteration 6, inertia 375364.9923784788.\n",
            "Iteration 7, inertia 373271.2987729931.\n",
            "Iteration 8, inertia 371369.8250701012.\n",
            "Iteration 9, inertia 369705.44162216777.\n",
            "Iteration 10, inertia 368339.1491572894.\n",
            "Iteration 11, inertia 367221.3529612228.\n",
            "Iteration 12, inertia 366371.99654664414.\n",
            "Iteration 13, inertia 365714.41881878464.\n",
            "Iteration 14, inertia 365226.5970853864.\n",
            "Iteration 15, inertia 364887.771162636.\n",
            "Iteration 16, inertia 364636.8216627614.\n",
            "Iteration 17, inertia 364429.5362551388.\n",
            "Iteration 18, inertia 364268.30342026113.\n",
            "Iteration 19, inertia 364149.8556021212.\n",
            "Iteration 20, inertia 364057.31640687294.\n",
            "Iteration 21, inertia 363985.4134901074.\n",
            "Iteration 22, inertia 363927.0723941114.\n",
            "Iteration 23, inertia 363879.72743405617.\n",
            "Iteration 24, inertia 363839.5294028813.\n",
            "Iteration 25, inertia 363807.56970276765.\n",
            "Iteration 26, inertia 363781.49777898553.\n",
            "Iteration 27, inertia 363758.8045635668.\n",
            "Converged at iteration 27: center shift 0.00023348349325371542 within tolerance 0.00026026664843204096.\n",
            "Initialization complete\n",
            "Iteration 0, inertia 508060.3068961218.\n",
            "Iteration 1, inertia 422420.2637718959.\n",
            "Iteration 2, inertia 409011.35303427384.\n",
            "Iteration 3, inertia 400310.64691443974.\n",
            "Iteration 4, inertia 393009.68853451824.\n",
            "Iteration 5, inertia 387534.8021217516.\n",
            "Iteration 6, inertia 383585.70271738875.\n",
            "Iteration 7, inertia 380693.1601377169.\n",
            "Iteration 8, inertia 378489.96910397074.\n",
            "Iteration 9, inertia 376813.83122693223.\n",
            "Iteration 10, inertia 375543.4289110283.\n",
            "Iteration 11, inertia 374561.9804284511.\n",
            "Iteration 12, inertia 373787.04261516937.\n",
            "Iteration 13, inertia 373169.4165512967.\n",
            "Iteration 14, inertia 372671.02931029734.\n",
            "Iteration 15, inertia 372270.6471809711.\n",
            "Iteration 16, inertia 371948.11654919747.\n",
            "Iteration 17, inertia 371665.88001644233.\n",
            "Iteration 18, inertia 371413.0526296527.\n",
            "Iteration 19, inertia 371188.4601185631.\n",
            "Iteration 20, inertia 370985.5770435321.\n",
            "Iteration 21, inertia 370804.6597959773.\n",
            "Iteration 22, inertia 370635.06140658073.\n",
            "Iteration 23, inertia 370478.09136422223.\n",
            "Iteration 24, inertia 370326.4290056005.\n",
            "Iteration 25, inertia 370184.42026036984.\n",
            "Iteration 26, inertia 370044.04255084746.\n",
            "Iteration 27, inertia 369896.83827489393.\n",
            "Iteration 28, inertia 369746.17377288523.\n",
            "Iteration 29, inertia 369603.9323311251.\n",
            "Iteration 30, inertia 369459.34734759096.\n",
            "Iteration 31, inertia 369305.82189795317.\n",
            "Iteration 32, inertia 369152.2767342415.\n",
            "Iteration 33, inertia 368991.74707057234.\n",
            "Iteration 34, inertia 368826.5735247078.\n",
            "Iteration 35, inertia 368653.17743626924.\n",
            "Iteration 36, inertia 368471.7774199328.\n",
            "Iteration 37, inertia 368294.02980792837.\n",
            "Iteration 38, inertia 368124.54395759286.\n",
            "Iteration 39, inertia 367957.6661368676.\n",
            "Iteration 40, inertia 367783.7058710145.\n",
            "Iteration 41, inertia 367608.50659302925.\n",
            "Iteration 42, inertia 367438.1426972621.\n",
            "Iteration 43, inertia 367273.67997076665.\n",
            "Iteration 44, inertia 367116.36048552045.\n",
            "Iteration 45, inertia 366970.13855923887.\n",
            "Iteration 46, inertia 366832.3506551556.\n",
            "Iteration 47, inertia 366710.4809739416.\n",
            "Iteration 48, inertia 366601.4681954563.\n",
            "Iteration 49, inertia 366500.99910704576.\n",
            "Iteration 50, inertia 366412.2874491749.\n",
            "Iteration 51, inertia 366330.9610733652.\n",
            "Iteration 52, inertia 366256.825532552.\n",
            "Iteration 53, inertia 366195.0117096878.\n",
            "Iteration 54, inertia 366142.9598045669.\n",
            "Iteration 55, inertia 366098.2544894035.\n",
            "Iteration 56, inertia 366056.82599273976.\n",
            "Iteration 57, inertia 366022.0985549671.\n",
            "Iteration 58, inertia 365993.763584445.\n",
            "Converged at iteration 58: center shift 0.00022870949723531773 within tolerance 0.00026026664843204096.\n",
            "Initialization complete\n",
            "Iteration 0, inertia 473972.742431863.\n",
            "Iteration 1, inertia 404981.9304058857.\n",
            "Iteration 2, inertia 392193.6505786992.\n",
            "Iteration 3, inertia 387093.1016522476.\n",
            "Iteration 4, inertia 384517.3134919532.\n",
            "Iteration 5, inertia 382892.85167048697.\n",
            "Iteration 6, inertia 381603.1215208096.\n",
            "Iteration 7, inertia 380414.0544722713.\n",
            "Iteration 8, inertia 379138.128073487.\n",
            "Iteration 9, inertia 377640.02828255575.\n",
            "Iteration 10, inertia 375931.7486795312.\n",
            "Iteration 11, inertia 374090.73944466567.\n",
            "Iteration 12, inertia 372317.5738294962.\n",
            "Iteration 13, inertia 370777.45641287713.\n",
            "Iteration 14, inertia 369503.1670588118.\n",
            "Iteration 15, inertia 368455.84029018256.\n",
            "Iteration 16, inertia 367561.9055083801.\n",
            "Iteration 17, inertia 366832.75774177234.\n",
            "Iteration 18, inertia 366279.68253992137.\n",
            "Iteration 19, inertia 365867.1744135668.\n",
            "Iteration 20, inertia 365546.83122741396.\n",
            "Iteration 21, inertia 365296.5393371033.\n",
            "Iteration 22, inertia 365099.568395119.\n",
            "Iteration 23, inertia 364936.396272936.\n",
            "Iteration 24, inertia 364800.7086099897.\n",
            "Iteration 25, inertia 364690.65133566875.\n",
            "Iteration 26, inertia 364599.00364100374.\n",
            "Iteration 27, inertia 364523.2388835348.\n",
            "Iteration 28, inertia 364459.1137269198.\n",
            "Iteration 29, inertia 364402.09937339515.\n",
            "Iteration 30, inertia 364351.99699104484.\n",
            "Iteration 31, inertia 364306.09029028827.\n",
            "Iteration 32, inertia 364264.7005231136.\n",
            "Iteration 33, inertia 364225.98466181796.\n",
            "Iteration 34, inertia 364192.98816556984.\n",
            "Iteration 35, inertia 364160.9881791991.\n",
            "Iteration 36, inertia 364132.2718865877.\n",
            "Iteration 37, inertia 364105.10887030064.\n",
            "Iteration 38, inertia 364078.9183966262.\n",
            "Iteration 39, inertia 364054.9688137802.\n",
            "Iteration 40, inertia 364030.2828919497.\n",
            "Iteration 41, inertia 364004.34019496816.\n",
            "Iteration 42, inertia 363978.7926302159.\n",
            "Iteration 43, inertia 363953.2160195251.\n",
            "Iteration 44, inertia 363929.6415946979.\n",
            "Iteration 45, inertia 363908.0073024373.\n",
            "Converged at iteration 45: center shift 0.0002475326515888526 within tolerance 0.00026026664843204096.\n",
            "Initialization complete\n",
            "Iteration 0, inertia 513444.7684372144.\n",
            "Iteration 1, inertia 428527.82611989346.\n",
            "Iteration 2, inertia 401340.72013612516.\n",
            "Iteration 3, inertia 389248.32949589286.\n",
            "Iteration 4, inertia 382770.51408907014.\n",
            "Iteration 5, inertia 378828.4887505078.\n",
            "Iteration 6, inertia 376326.1618471646.\n",
            "Iteration 7, inertia 374564.9361899523.\n",
            "Iteration 8, inertia 373216.2625680292.\n",
            "Iteration 9, inertia 372113.02881809254.\n",
            "Iteration 10, inertia 371101.82383652934.\n",
            "Iteration 11, inertia 370225.6261458052.\n",
            "Iteration 12, inertia 369484.7405554333.\n",
            "Iteration 13, inertia 368856.62528233195.\n",
            "Iteration 14, inertia 368325.84868818836.\n",
            "Iteration 15, inertia 367908.06728795695.\n",
            "Iteration 16, inertia 367572.3324097666.\n",
            "Iteration 17, inertia 367287.8496325343.\n",
            "Iteration 18, inertia 367051.79420213366.\n",
            "Iteration 19, inertia 366849.1579075287.\n",
            "Iteration 20, inertia 366671.7327938713.\n",
            "Iteration 21, inertia 366527.09439146775.\n",
            "Iteration 22, inertia 366410.9733963832.\n",
            "Iteration 23, inertia 366318.7079085211.\n",
            "Iteration 24, inertia 366240.65417274757.\n",
            "Iteration 25, inertia 366172.9935440393.\n",
            "Iteration 26, inertia 366116.4339117613.\n",
            "Iteration 27, inertia 366068.4931195278.\n",
            "Iteration 28, inertia 366027.0445330412.\n",
            "Iteration 29, inertia 365995.7901856061.\n",
            "Converged at iteration 29: center shift 0.00025131355958951435 within tolerance 0.00026026664843204096.\n",
            "Initialization complete\n",
            "Iteration 0, inertia 447943.28281223786.\n",
            "Iteration 1, inertia 397203.1065490627.\n",
            "Iteration 2, inertia 387856.3517455629.\n",
            "Iteration 3, inertia 383053.27990038524.\n",
            "Iteration 4, inertia 380456.4455207074.\n",
            "Iteration 5, inertia 378759.33439389826.\n",
            "Iteration 6, inertia 377374.4586056255.\n",
            "Iteration 7, inertia 376129.25266293937.\n",
            "Iteration 8, inertia 374969.89564384974.\n",
            "Iteration 9, inertia 373895.9208438166.\n",
            "Iteration 10, inertia 372941.0966155111.\n",
            "Iteration 11, inertia 372129.71979118977.\n",
            "Iteration 12, inertia 371437.9649370709.\n",
            "Iteration 13, inertia 370884.26757717016.\n",
            "Iteration 14, inertia 370453.7028572613.\n",
            "Iteration 15, inertia 370114.44233157503.\n",
            "Iteration 16, inertia 369851.1690636312.\n",
            "Iteration 17, inertia 369630.963598089.\n",
            "Iteration 18, inertia 369450.78877008916.\n",
            "Iteration 19, inertia 369306.6517847583.\n",
            "Iteration 20, inertia 369178.81823977.\n",
            "Iteration 21, inertia 369070.1796040394.\n",
            "Iteration 22, inertia 368976.71086391277.\n",
            "Iteration 23, inertia 368894.2638739849.\n",
            "Iteration 24, inertia 368822.47102809534.\n",
            "Iteration 25, inertia 368755.39496559685.\n",
            "Iteration 26, inertia 368692.13584205415.\n",
            "Iteration 27, inertia 368630.2763808236.\n",
            "Iteration 28, inertia 368570.3637759276.\n",
            "Iteration 29, inertia 368511.4710798678.\n",
            "Iteration 30, inertia 368450.52931563044.\n",
            "Iteration 31, inertia 368388.4533867491.\n",
            "Iteration 32, inertia 368320.1810289079.\n",
            "Iteration 33, inertia 368247.03392038.\n",
            "Iteration 34, inertia 368166.61301644274.\n",
            "Iteration 35, inertia 368078.3233483122.\n",
            "Iteration 36, inertia 367977.81858389976.\n",
            "Iteration 37, inertia 367865.8817257193.\n",
            "Iteration 38, inertia 367746.34465708764.\n",
            "Iteration 39, inertia 367614.96894555906.\n",
            "Iteration 40, inertia 367476.73995875503.\n",
            "Iteration 41, inertia 367322.8796560925.\n",
            "Iteration 42, inertia 367172.9806722236.\n",
            "Iteration 43, inertia 367035.96892279724.\n",
            "Iteration 44, inertia 366911.9243893758.\n",
            "Iteration 45, inertia 366796.356756816.\n",
            "Iteration 46, inertia 366694.29305607826.\n",
            "Iteration 47, inertia 366612.67752290965.\n",
            "Iteration 48, inertia 366542.2697962604.\n",
            "Iteration 49, inertia 366480.6727068511.\n",
            "Iteration 50, inertia 366425.2011382375.\n",
            "Iteration 51, inertia 366377.76077778084.\n",
            "Iteration 52, inertia 366337.743399034.\n",
            "Iteration 53, inertia 366303.20469747734.\n",
            "Iteration 54, inertia 366271.6559978248.\n",
            "Iteration 55, inertia 366242.16468304256.\n",
            "Iteration 56, inertia 366214.1020797298.\n",
            "Iteration 57, inertia 366185.8388357441.\n",
            "Converged at iteration 57: center shift 0.0002586307677741659 within tolerance 0.00026026664843204096.\n",
            "Initialization complete\n",
            "Iteration 0, inertia 441683.3715839265.\n",
            "Iteration 1, inertia 407865.9899019414.\n",
            "Iteration 2, inertia 399001.2684312581.\n",
            "Iteration 3, inertia 392674.0604665362.\n",
            "Iteration 4, inertia 387759.5285086304.\n",
            "Iteration 5, inertia 384124.5545373412.\n",
            "Iteration 6, inertia 381637.000780963.\n",
            "Iteration 7, inertia 380032.0450698732.\n",
            "Iteration 8, inertia 378960.11354622064.\n",
            "Iteration 9, inertia 378136.09771496523.\n",
            "Iteration 10, inertia 377381.8249123381.\n",
            "Iteration 11, inertia 376572.71563631564.\n",
            "Iteration 12, inertia 375660.0250740355.\n",
            "Iteration 13, inertia 374685.8269381971.\n",
            "Iteration 14, inertia 373703.52789903776.\n",
            "Iteration 15, inertia 372821.3872088118.\n",
            "Iteration 16, inertia 372106.1319143543.\n",
            "Iteration 17, inertia 371518.5030943276.\n",
            "Iteration 18, inertia 371016.165162668.\n",
            "Iteration 19, inertia 370554.2726366706.\n",
            "Iteration 20, inertia 370103.39346115995.\n",
            "Iteration 21, inertia 369669.84968250035.\n",
            "Iteration 22, inertia 369210.82911914523.\n",
            "Iteration 23, inertia 368699.22574617306.\n",
            "Iteration 24, inertia 368128.189807085.\n",
            "Iteration 25, inertia 367473.34340034943.\n",
            "Iteration 26, inertia 366761.8227260432.\n",
            "Iteration 27, inertia 366045.6037469397.\n",
            "Iteration 28, inertia 365373.257450085.\n",
            "Iteration 29, inertia 364788.2683421752.\n",
            "Iteration 30, inertia 364300.7946440043.\n",
            "Iteration 31, inertia 363887.4155688543.\n",
            "Iteration 32, inertia 363553.3424715162.\n",
            "Iteration 33, inertia 363289.2396115602.\n",
            "Iteration 34, inertia 363079.93548692245.\n",
            "Iteration 35, inertia 362910.08061203617.\n",
            "Iteration 36, inertia 362775.716706565.\n",
            "Iteration 37, inertia 362665.65036078286.\n",
            "Iteration 38, inertia 362581.2076581607.\n",
            "Iteration 39, inertia 362517.6876584551.\n",
            "Iteration 40, inertia 362465.7316684056.\n",
            "Iteration 41, inertia 362422.5515709163.\n",
            "Iteration 42, inertia 362388.59165512526.\n",
            "Converged at iteration 42: center shift 0.00024236442226852154 within tolerance 0.00026026664843204096.\n",
            "Initialization complete\n",
            "Iteration 0, inertia 414699.1782307052.\n",
            "Iteration 1, inertia 381852.66616582335.\n",
            "Iteration 2, inertia 375781.259994249.\n",
            "Iteration 3, inertia 372948.0109372727.\n",
            "Iteration 4, inertia 371284.2828804526.\n",
            "Iteration 5, inertia 370238.06566150446.\n",
            "Iteration 6, inertia 369555.167750856.\n",
            "Iteration 7, inertia 369087.8063726841.\n",
            "Iteration 8, inertia 368762.08734629926.\n",
            "Iteration 9, inertia 368535.1469437708.\n",
            "Iteration 10, inertia 368371.69878638984.\n",
            "Iteration 11, inertia 368251.66453223606.\n",
            "Iteration 12, inertia 368159.24077507743.\n",
            "Iteration 13, inertia 368093.0867412137.\n",
            "Iteration 14, inertia 368041.4690669931.\n",
            "Iteration 15, inertia 367996.1684207041.\n",
            "Iteration 16, inertia 367955.3718003564.\n",
            "Iteration 17, inertia 367917.94414043485.\n",
            "Iteration 18, inertia 367884.54722312524.\n",
            "Converged at iteration 18: center shift 0.00025471868428663763 within tolerance 0.00026026664843204096.\n",
            "Initialization complete\n",
            "Iteration 0, inertia 413474.82240583503.\n",
            "Iteration 1, inertia 389081.1782076503.\n",
            "Iteration 2, inertia 381360.28085764265.\n",
            "Iteration 3, inertia 377177.9534083117.\n",
            "Iteration 4, inertia 374396.6879254759.\n",
            "Iteration 5, inertia 372406.3085678081.\n",
            "Iteration 6, inertia 370893.9145210204.\n",
            "Iteration 7, inertia 369714.61738631566.\n",
            "Iteration 8, inertia 368780.73021489417.\n",
            "Iteration 9, inertia 368019.76062128856.\n",
            "Iteration 10, inertia 367394.06276254833.\n",
            "Iteration 11, inertia 366886.61308947415.\n",
            "Iteration 12, inertia 366448.8126707239.\n",
            "Iteration 13, inertia 366061.07125272765.\n",
            "Iteration 14, inertia 365727.3555034554.\n",
            "Iteration 15, inertia 365442.4805591026.\n",
            "Iteration 16, inertia 365196.9556216999.\n",
            "Iteration 17, inertia 364973.5336221007.\n",
            "Iteration 18, inertia 364776.24899254227.\n",
            "Iteration 19, inertia 364591.05241730425.\n",
            "Iteration 20, inertia 364421.42660606373.\n",
            "Iteration 21, inertia 364277.22557130584.\n",
            "Iteration 22, inertia 364164.62997709005.\n",
            "Iteration 23, inertia 364070.15933626564.\n",
            "Iteration 24, inertia 363991.200184221.\n",
            "Iteration 25, inertia 363923.6147124715.\n",
            "Iteration 26, inertia 363870.5593981703.\n",
            "Iteration 27, inertia 363827.4877625761.\n",
            "Iteration 28, inertia 363793.02527483145.\n",
            "Converged at iteration 28: center shift 0.0002551947461187203 within tolerance 0.00026026664843204096.\n",
            "Initialization complete\n",
            "Iteration 0, inertia 472193.52644790284.\n",
            "Iteration 1, inertia 409711.02353666286.\n",
            "Iteration 2, inertia 395546.79100451.\n",
            "Iteration 3, inertia 390357.89254213043.\n",
            "Iteration 4, inertia 387831.43019565113.\n",
            "Iteration 5, inertia 386181.46058723144.\n",
            "Iteration 6, inertia 384731.1137645797.\n",
            "Iteration 7, inertia 383102.73169494624.\n",
            "Iteration 8, inertia 381157.74419577967.\n",
            "Iteration 9, inertia 379046.1601421941.\n",
            "Iteration 10, inertia 376884.4262907952.\n",
            "Iteration 11, inertia 374811.42009230517.\n",
            "Iteration 12, inertia 372900.15504314273.\n",
            "Iteration 13, inertia 371277.7516754761.\n",
            "Iteration 14, inertia 369935.6862997849.\n",
            "Iteration 15, inertia 368876.9055915035.\n",
            "Iteration 16, inertia 368067.6584972795.\n",
            "Iteration 17, inertia 367447.1635432879.\n",
            "Iteration 18, inertia 366961.7682687859.\n",
            "Iteration 19, inertia 366555.95766857313.\n",
            "Iteration 20, inertia 366217.78257719195.\n",
            "Iteration 21, inertia 365935.68397956155.\n",
            "Iteration 22, inertia 365678.0008893431.\n",
            "Iteration 23, inertia 365459.0384366342.\n",
            "Iteration 24, inertia 365274.97750448657.\n",
            "Iteration 25, inertia 365123.8832807394.\n",
            "Iteration 26, inertia 365004.99642103224.\n",
            "Iteration 27, inertia 364902.2195309958.\n",
            "Iteration 28, inertia 364807.30890100193.\n",
            "Iteration 29, inertia 364723.4242779048.\n",
            "Iteration 30, inertia 364652.1745707132.\n",
            "Iteration 31, inertia 364587.93539932923.\n",
            "Iteration 32, inertia 364531.9089355077.\n",
            "Iteration 33, inertia 364487.62940404075.\n",
            "Iteration 34, inertia 364448.34575116634.\n",
            "Iteration 35, inertia 364417.05259040685.\n",
            "Iteration 36, inertia 364387.4286955573.\n",
            "Iteration 37, inertia 364358.8491365778.\n",
            "Iteration 38, inertia 364331.9514985522.\n",
            "Iteration 39, inertia 364303.83075338736.\n",
            "Iteration 40, inertia 364277.5518922981.\n",
            "Iteration 41, inertia 364249.56827064673.\n",
            "Iteration 42, inertia 364221.569286252.\n",
            "Iteration 43, inertia 364192.9766486464.\n",
            "Iteration 44, inertia 364166.7428576185.\n",
            "Iteration 45, inertia 364142.5832442746.\n",
            "Iteration 46, inertia 364120.498100284.\n",
            "Iteration 47, inertia 364098.5867801409.\n",
            "Iteration 48, inertia 364076.3614592029.\n",
            "Iteration 49, inertia 364055.0066906698.\n",
            "Iteration 50, inertia 364031.9968906414.\n",
            "Iteration 51, inertia 364007.9000641786.\n",
            "Iteration 52, inertia 363984.43912429106.\n",
            "Iteration 53, inertia 363960.40577966196.\n",
            "Iteration 54, inertia 363938.83001184236.\n",
            "Iteration 55, inertia 363918.35837477486.\n",
            "Converged at iteration 55: center shift 0.00023851523573091308 within tolerance 0.00026026664843204096.\n",
            "Initialization complete\n",
            "Iteration 0, inertia 447773.9325856011.\n",
            "Iteration 1, inertia 407277.2974147368.\n",
            "Iteration 2, inertia 394929.0127608399.\n",
            "Iteration 3, inertia 387971.7651602509.\n",
            "Iteration 4, inertia 383265.5732783265.\n",
            "Iteration 5, inertia 379829.61182973377.\n",
            "Iteration 6, inertia 377182.1133372966.\n",
            "Iteration 7, inertia 375131.4219970635.\n",
            "Iteration 8, inertia 373617.4239111694.\n",
            "Iteration 9, inertia 372562.54142379377.\n",
            "Iteration 10, inertia 371849.41581391764.\n",
            "Iteration 11, inertia 371336.1136407312.\n",
            "Iteration 12, inertia 370959.73908295756.\n",
            "Iteration 13, inertia 370690.81768484064.\n",
            "Iteration 14, inertia 370470.4464451395.\n",
            "Iteration 15, inertia 370264.96291973407.\n",
            "Iteration 16, inertia 370060.0962277576.\n",
            "Iteration 17, inertia 369831.96676940244.\n",
            "Iteration 18, inertia 369541.6076286105.\n",
            "Iteration 19, inertia 369178.81207209267.\n",
            "Iteration 20, inertia 368765.3815409817.\n",
            "Iteration 21, inertia 368322.68862197374.\n",
            "Iteration 22, inertia 367871.9969093312.\n",
            "Iteration 23, inertia 367455.37340987474.\n",
            "Iteration 24, inertia 367108.3711458303.\n",
            "Iteration 25, inertia 366828.85580090364.\n",
            "Iteration 26, inertia 366611.265658647.\n",
            "Iteration 27, inertia 366439.9844867173.\n",
            "Iteration 28, inertia 366310.44948617.\n",
            "Iteration 29, inertia 366214.28539271245.\n",
            "Iteration 30, inertia 366137.34454690776.\n",
            "Iteration 31, inertia 366076.0752551176.\n",
            "Iteration 32, inertia 366027.05175556213.\n",
            "Iteration 33, inertia 365989.7688494901.\n",
            "Iteration 34, inertia 365958.000441032.\n",
            "Converged at iteration 34: center shift 0.0002389684812509925 within tolerance 0.00026026664843204096.\n"
          ]
        },
        {
          "data": {
            "text/html": [
              "<style>#sk-container-id-1 {color: black;background-color: white;}#sk-container-id-1 pre{padding: 0;}#sk-container-id-1 div.sk-toggleable {background-color: white;}#sk-container-id-1 label.sk-toggleable__label {cursor: pointer;display: block;width: 100%;margin-bottom: 0;padding: 0.3em;box-sizing: border-box;text-align: center;}#sk-container-id-1 label.sk-toggleable__label-arrow:before {content: \"▸\";float: left;margin-right: 0.25em;color: #696969;}#sk-container-id-1 label.sk-toggleable__label-arrow:hover:before {color: black;}#sk-container-id-1 div.sk-estimator:hover label.sk-toggleable__label-arrow:before {color: black;}#sk-container-id-1 div.sk-toggleable__content {max-height: 0;max-width: 0;overflow: hidden;text-align: left;background-color: #f0f8ff;}#sk-container-id-1 div.sk-toggleable__content pre {margin: 0.2em;color: black;border-radius: 0.25em;background-color: #f0f8ff;}#sk-container-id-1 input.sk-toggleable__control:checked~div.sk-toggleable__content {max-height: 200px;max-width: 100%;overflow: auto;}#sk-container-id-1 input.sk-toggleable__control:checked~label.sk-toggleable__label-arrow:before {content: \"▾\";}#sk-container-id-1 div.sk-estimator input.sk-toggleable__control:checked~label.sk-toggleable__label {background-color: #d4ebff;}#sk-container-id-1 div.sk-label input.sk-toggleable__control:checked~label.sk-toggleable__label {background-color: #d4ebff;}#sk-container-id-1 input.sk-hidden--visually {border: 0;clip: rect(1px 1px 1px 1px);clip: rect(1px, 1px, 1px, 1px);height: 1px;margin: -1px;overflow: hidden;padding: 0;position: absolute;width: 1px;}#sk-container-id-1 div.sk-estimator {font-family: monospace;background-color: #f0f8ff;border: 1px dotted black;border-radius: 0.25em;box-sizing: border-box;margin-bottom: 0.5em;}#sk-container-id-1 div.sk-estimator:hover {background-color: #d4ebff;}#sk-container-id-1 div.sk-parallel-item::after {content: \"\";width: 100%;border-bottom: 1px solid gray;flex-grow: 1;}#sk-container-id-1 div.sk-label:hover label.sk-toggleable__label {background-color: #d4ebff;}#sk-container-id-1 div.sk-serial::before {content: \"\";position: absolute;border-left: 1px solid gray;box-sizing: border-box;top: 0;bottom: 0;left: 50%;z-index: 0;}#sk-container-id-1 div.sk-serial {display: flex;flex-direction: column;align-items: center;background-color: white;padding-right: 0.2em;padding-left: 0.2em;position: relative;}#sk-container-id-1 div.sk-item {position: relative;z-index: 1;}#sk-container-id-1 div.sk-parallel {display: flex;align-items: stretch;justify-content: center;background-color: white;position: relative;}#sk-container-id-1 div.sk-item::before, #sk-container-id-1 div.sk-parallel-item::before {content: \"\";position: absolute;border-left: 1px solid gray;box-sizing: border-box;top: 0;bottom: 0;left: 50%;z-index: -1;}#sk-container-id-1 div.sk-parallel-item {display: flex;flex-direction: column;z-index: 1;position: relative;background-color: white;}#sk-container-id-1 div.sk-parallel-item:first-child::after {align-self: flex-end;width: 50%;}#sk-container-id-1 div.sk-parallel-item:last-child::after {align-self: flex-start;width: 50%;}#sk-container-id-1 div.sk-parallel-item:only-child::after {width: 0;}#sk-container-id-1 div.sk-dashed-wrapped {border: 1px dashed gray;margin: 0 0.4em 0.5em 0.4em;box-sizing: border-box;padding-bottom: 0.4em;background-color: white;}#sk-container-id-1 div.sk-label label {font-family: monospace;font-weight: bold;display: inline-block;line-height: 1.2em;}#sk-container-id-1 div.sk-label-container {text-align: center;}#sk-container-id-1 div.sk-container {/* jupyter's `normalize.less` sets `[hidden] { display: none; }` but bootstrap.min.css set `[hidden] { display: none !important; }` so we also need the `!important` here to be able to override the default hidden behavior on the sphinx rendered scikit-learn.org. See: https://github.com/scikit-learn/scikit-learn/issues/21755 */display: inline-block !important;position: relative;}#sk-container-id-1 div.sk-text-repr-fallback {display: none;}</style><div id=\"sk-container-id-1\" class=\"sk-top-container\"><div class=\"sk-text-repr-fallback\"><pre>KMeans(n_clusters=10, verbose=2)</pre><b>In a Jupyter environment, please rerun this cell to show the HTML representation or trust the notebook. <br />On GitHub, the HTML representation is unable to render, please try loading this page with nbviewer.org.</b></div><div class=\"sk-container\" hidden><div class=\"sk-item\"><div class=\"sk-estimator sk-toggleable\"><input class=\"sk-toggleable__control sk-hidden--visually\" id=\"sk-estimator-id-1\" type=\"checkbox\" checked><label for=\"sk-estimator-id-1\" class=\"sk-toggleable__label sk-toggleable__label-arrow\">KMeans</label><div class=\"sk-toggleable__content\"><pre>KMeans(n_clusters=10, verbose=2)</pre></div></div></div></div></div>"
            ],
            "text/plain": [
              "KMeans(n_clusters=10, verbose=2)"
            ]
          },
          "execution_count": 25,
          "metadata": {},
          "output_type": "execute_result"
        }
      ],
      "source": [
        "from sklearn.cluster import KMeans\n",
        "kmeans = KMeans(n_clusters=10, verbose=2)\n",
        "kmeans.fit(pca_df)"
      ]
    },
    {
      "cell_type": "code",
      "execution_count": 26,
      "metadata": {},
      "outputs": [],
      "source": [
        "spotify_dataKmeans = tracks_data.copy()\n",
        "spotify_dataKmeans['cluster_label'] = kmeans.predict(pca_df)"
      ]
    },
    {
      "cell_type": "code",
      "execution_count": 27,
      "metadata": {},
      "outputs": [
        {
          "name": "stdout",
          "output_type": "stream",
          "text": [
            "384120.22572595644\n"
          ]
        }
      ],
      "source": [
        "x = metrics.calinski_harabasz_score(pca_df, spotify_dataKmeans['cluster_label'])\n",
        "print(x)\n",
        "#kmeans\n",
        "dict1['kmeans']=x"
      ]
    },
    {
      "cell_type": "markdown",
      "metadata": {},
      "source": [
        "### 2. BIRCH Clustering\n",
        "It is a memory-efficient, online-learning algorithm provided. It constructs a tree data structure with the cluster centroids being read off the leaf. These can be either the final cluster centroids or can be provided as input to another clustering algorithm such as AgglomerativeClustering."
      ]
    },
    {
      "cell_type": "code",
      "execution_count": 28,
      "metadata": {},
      "outputs": [
        {
          "data": {
            "text/html": [
              "<style>#sk-container-id-2 {color: black;background-color: white;}#sk-container-id-2 pre{padding: 0;}#sk-container-id-2 div.sk-toggleable {background-color: white;}#sk-container-id-2 label.sk-toggleable__label {cursor: pointer;display: block;width: 100%;margin-bottom: 0;padding: 0.3em;box-sizing: border-box;text-align: center;}#sk-container-id-2 label.sk-toggleable__label-arrow:before {content: \"▸\";float: left;margin-right: 0.25em;color: #696969;}#sk-container-id-2 label.sk-toggleable__label-arrow:hover:before {color: black;}#sk-container-id-2 div.sk-estimator:hover label.sk-toggleable__label-arrow:before {color: black;}#sk-container-id-2 div.sk-toggleable__content {max-height: 0;max-width: 0;overflow: hidden;text-align: left;background-color: #f0f8ff;}#sk-container-id-2 div.sk-toggleable__content pre {margin: 0.2em;color: black;border-radius: 0.25em;background-color: #f0f8ff;}#sk-container-id-2 input.sk-toggleable__control:checked~div.sk-toggleable__content {max-height: 200px;max-width: 100%;overflow: auto;}#sk-container-id-2 input.sk-toggleable__control:checked~label.sk-toggleable__label-arrow:before {content: \"▾\";}#sk-container-id-2 div.sk-estimator input.sk-toggleable__control:checked~label.sk-toggleable__label {background-color: #d4ebff;}#sk-container-id-2 div.sk-label input.sk-toggleable__control:checked~label.sk-toggleable__label {background-color: #d4ebff;}#sk-container-id-2 input.sk-hidden--visually {border: 0;clip: rect(1px 1px 1px 1px);clip: rect(1px, 1px, 1px, 1px);height: 1px;margin: -1px;overflow: hidden;padding: 0;position: absolute;width: 1px;}#sk-container-id-2 div.sk-estimator {font-family: monospace;background-color: #f0f8ff;border: 1px dotted black;border-radius: 0.25em;box-sizing: border-box;margin-bottom: 0.5em;}#sk-container-id-2 div.sk-estimator:hover {background-color: #d4ebff;}#sk-container-id-2 div.sk-parallel-item::after {content: \"\";width: 100%;border-bottom: 1px solid gray;flex-grow: 1;}#sk-container-id-2 div.sk-label:hover label.sk-toggleable__label {background-color: #d4ebff;}#sk-container-id-2 div.sk-serial::before {content: \"\";position: absolute;border-left: 1px solid gray;box-sizing: border-box;top: 0;bottom: 0;left: 50%;z-index: 0;}#sk-container-id-2 div.sk-serial {display: flex;flex-direction: column;align-items: center;background-color: white;padding-right: 0.2em;padding-left: 0.2em;position: relative;}#sk-container-id-2 div.sk-item {position: relative;z-index: 1;}#sk-container-id-2 div.sk-parallel {display: flex;align-items: stretch;justify-content: center;background-color: white;position: relative;}#sk-container-id-2 div.sk-item::before, #sk-container-id-2 div.sk-parallel-item::before {content: \"\";position: absolute;border-left: 1px solid gray;box-sizing: border-box;top: 0;bottom: 0;left: 50%;z-index: -1;}#sk-container-id-2 div.sk-parallel-item {display: flex;flex-direction: column;z-index: 1;position: relative;background-color: white;}#sk-container-id-2 div.sk-parallel-item:first-child::after {align-self: flex-end;width: 50%;}#sk-container-id-2 div.sk-parallel-item:last-child::after {align-self: flex-start;width: 50%;}#sk-container-id-2 div.sk-parallel-item:only-child::after {width: 0;}#sk-container-id-2 div.sk-dashed-wrapped {border: 1px dashed gray;margin: 0 0.4em 0.5em 0.4em;box-sizing: border-box;padding-bottom: 0.4em;background-color: white;}#sk-container-id-2 div.sk-label label {font-family: monospace;font-weight: bold;display: inline-block;line-height: 1.2em;}#sk-container-id-2 div.sk-label-container {text-align: center;}#sk-container-id-2 div.sk-container {/* jupyter's `normalize.less` sets `[hidden] { display: none; }` but bootstrap.min.css set `[hidden] { display: none !important; }` so we also need the `!important` here to be able to override the default hidden behavior on the sphinx rendered scikit-learn.org. See: https://github.com/scikit-learn/scikit-learn/issues/21755 */display: inline-block !important;position: relative;}#sk-container-id-2 div.sk-text-repr-fallback {display: none;}</style><div id=\"sk-container-id-2\" class=\"sk-top-container\"><div class=\"sk-text-repr-fallback\"><pre>Birch(n_clusters=10)</pre><b>In a Jupyter environment, please rerun this cell to show the HTML representation or trust the notebook. <br />On GitHub, the HTML representation is unable to render, please try loading this page with nbviewer.org.</b></div><div class=\"sk-container\" hidden><div class=\"sk-item\"><div class=\"sk-estimator sk-toggleable\"><input class=\"sk-toggleable__control sk-hidden--visually\" id=\"sk-estimator-id-2\" type=\"checkbox\" checked><label for=\"sk-estimator-id-2\" class=\"sk-toggleable__label sk-toggleable__label-arrow\">Birch</label><div class=\"sk-toggleable__content\"><pre>Birch(n_clusters=10)</pre></div></div></div></div></div>"
            ],
            "text/plain": [
              "Birch(n_clusters=10)"
            ]
          },
          "execution_count": 28,
          "metadata": {},
          "output_type": "execute_result"
        }
      ],
      "source": [
        "from sklearn.cluster import Birch\n",
        "\n",
        "brc = Birch(n_clusters=10)\n",
        "brc.fit(pca_df)"
      ]
    },
    {
      "cell_type": "code",
      "execution_count": 29,
      "metadata": {},
      "outputs": [],
      "source": [
        "spotify_dataBirch = tracks_data.copy()\n",
        "spotify_dataBirch['cluster_label'] = brc.predict(pca_df)"
      ]
    },
    {
      "cell_type": "code",
      "execution_count": 30,
      "metadata": {},
      "outputs": [
        {
          "name": "stdout",
          "output_type": "stream",
          "text": [
            "96518.12448719343\n"
          ]
        }
      ],
      "source": [
        "x = metrics.calinski_harabasz_score(pca_df, spotify_dataBirch['cluster_label'])\n",
        "print(x) #BIRCH\n",
        "dict1['BIRCH']=x"
      ]
    },
    {
      "cell_type": "markdown",
      "metadata": {},
      "source": [
        "### 3. Fuzzy C Mean Clustering\n",
        "Fuzzy C mean works by assigning membership to each data point corresponding to each cluster center on the basis of distance between the cluster center and the data point. More the data is near to the cluster center more is its membership towards the particular cluster center."
      ]
    },
    {
      "cell_type": "code",
      "execution_count": 31,
      "metadata": {},
      "outputs": [
        {
          "name": "stdout",
          "output_type": "stream",
          "text": [
            "Note: you may need to restart the kernel to use updated packages.\n"
          ]
        }
      ],
      "source": [
        "pip install fuzzy-c-means --quiet"
      ]
    },
    {
      "cell_type": "code",
      "execution_count": 32,
      "metadata": {},
      "outputs": [],
      "source": [
        "from fcmeans import FCM"
      ]
    },
    {
      "cell_type": "code",
      "execution_count": 33,
      "metadata": {},
      "outputs": [],
      "source": [
        "fcm = FCM(n_clusters=10)\n",
        "fcm.fit(pca_df)"
      ]
    },
    {
      "cell_type": "code",
      "execution_count": 34,
      "metadata": {},
      "outputs": [],
      "source": [
        "spotify_dataFuzzy = tracks_data.copy()\n",
        "spotify_dataFuzzy['cluster_label'] = fcm.predict(pca_df)"
      ]
    },
    {
      "cell_type": "code",
      "execution_count": 35,
      "metadata": {},
      "outputs": [
        {
          "name": "stdout",
          "output_type": "stream",
          "text": [
            "370231.2225564328\n"
          ]
        }
      ],
      "source": [
        "x=metrics.calinski_harabasz_score(pca_df, spotify_dataFuzzy['cluster_label'])\n",
        "print(x) #fuzzy c mean\n",
        "dict1['fuzzy c']=x"
      ]
    },
    {
      "cell_type": "markdown",
      "metadata": {},
      "source": [
        "### 4. Gausian Mixture Model\n",
        "Gaussian Mixture Model or Mixture of Gaussian as it is sometimes called, is not so much a model as it is a probability distribution. It is a universally used model for generative unsupervised learning or clustering. It is also called Expectation-Maximization Clustering or EM Clustering and is based on the optimization strategy."
      ]
    },
    {
      "cell_type": "code",
      "execution_count": 36,
      "metadata": {},
      "outputs": [],
      "source": [
        "from sklearn.mixture import GaussianMixture"
      ]
    },
    {
      "cell_type": "code",
      "execution_count": 37,
      "metadata": {},
      "outputs": [
        {
          "data": {
            "text/html": [
              "<style>#sk-container-id-3 {color: black;background-color: white;}#sk-container-id-3 pre{padding: 0;}#sk-container-id-3 div.sk-toggleable {background-color: white;}#sk-container-id-3 label.sk-toggleable__label {cursor: pointer;display: block;width: 100%;margin-bottom: 0;padding: 0.3em;box-sizing: border-box;text-align: center;}#sk-container-id-3 label.sk-toggleable__label-arrow:before {content: \"▸\";float: left;margin-right: 0.25em;color: #696969;}#sk-container-id-3 label.sk-toggleable__label-arrow:hover:before {color: black;}#sk-container-id-3 div.sk-estimator:hover label.sk-toggleable__label-arrow:before {color: black;}#sk-container-id-3 div.sk-toggleable__content {max-height: 0;max-width: 0;overflow: hidden;text-align: left;background-color: #f0f8ff;}#sk-container-id-3 div.sk-toggleable__content pre {margin: 0.2em;color: black;border-radius: 0.25em;background-color: #f0f8ff;}#sk-container-id-3 input.sk-toggleable__control:checked~div.sk-toggleable__content {max-height: 200px;max-width: 100%;overflow: auto;}#sk-container-id-3 input.sk-toggleable__control:checked~label.sk-toggleable__label-arrow:before {content: \"▾\";}#sk-container-id-3 div.sk-estimator input.sk-toggleable__control:checked~label.sk-toggleable__label {background-color: #d4ebff;}#sk-container-id-3 div.sk-label input.sk-toggleable__control:checked~label.sk-toggleable__label {background-color: #d4ebff;}#sk-container-id-3 input.sk-hidden--visually {border: 0;clip: rect(1px 1px 1px 1px);clip: rect(1px, 1px, 1px, 1px);height: 1px;margin: -1px;overflow: hidden;padding: 0;position: absolute;width: 1px;}#sk-container-id-3 div.sk-estimator {font-family: monospace;background-color: #f0f8ff;border: 1px dotted black;border-radius: 0.25em;box-sizing: border-box;margin-bottom: 0.5em;}#sk-container-id-3 div.sk-estimator:hover {background-color: #d4ebff;}#sk-container-id-3 div.sk-parallel-item::after {content: \"\";width: 100%;border-bottom: 1px solid gray;flex-grow: 1;}#sk-container-id-3 div.sk-label:hover label.sk-toggleable__label {background-color: #d4ebff;}#sk-container-id-3 div.sk-serial::before {content: \"\";position: absolute;border-left: 1px solid gray;box-sizing: border-box;top: 0;bottom: 0;left: 50%;z-index: 0;}#sk-container-id-3 div.sk-serial {display: flex;flex-direction: column;align-items: center;background-color: white;padding-right: 0.2em;padding-left: 0.2em;position: relative;}#sk-container-id-3 div.sk-item {position: relative;z-index: 1;}#sk-container-id-3 div.sk-parallel {display: flex;align-items: stretch;justify-content: center;background-color: white;position: relative;}#sk-container-id-3 div.sk-item::before, #sk-container-id-3 div.sk-parallel-item::before {content: \"\";position: absolute;border-left: 1px solid gray;box-sizing: border-box;top: 0;bottom: 0;left: 50%;z-index: -1;}#sk-container-id-3 div.sk-parallel-item {display: flex;flex-direction: column;z-index: 1;position: relative;background-color: white;}#sk-container-id-3 div.sk-parallel-item:first-child::after {align-self: flex-end;width: 50%;}#sk-container-id-3 div.sk-parallel-item:last-child::after {align-self: flex-start;width: 50%;}#sk-container-id-3 div.sk-parallel-item:only-child::after {width: 0;}#sk-container-id-3 div.sk-dashed-wrapped {border: 1px dashed gray;margin: 0 0.4em 0.5em 0.4em;box-sizing: border-box;padding-bottom: 0.4em;background-color: white;}#sk-container-id-3 div.sk-label label {font-family: monospace;font-weight: bold;display: inline-block;line-height: 1.2em;}#sk-container-id-3 div.sk-label-container {text-align: center;}#sk-container-id-3 div.sk-container {/* jupyter's `normalize.less` sets `[hidden] { display: none; }` but bootstrap.min.css set `[hidden] { display: none !important; }` so we also need the `!important` here to be able to override the default hidden behavior on the sphinx rendered scikit-learn.org. See: https://github.com/scikit-learn/scikit-learn/issues/21755 */display: inline-block !important;position: relative;}#sk-container-id-3 div.sk-text-repr-fallback {display: none;}</style><div id=\"sk-container-id-3\" class=\"sk-top-container\"><div class=\"sk-text-repr-fallback\"><pre>GaussianMixture(n_components=7, random_state=23)</pre><b>In a Jupyter environment, please rerun this cell to show the HTML representation or trust the notebook. <br />On GitHub, the HTML representation is unable to render, please try loading this page with nbviewer.org.</b></div><div class=\"sk-container\" hidden><div class=\"sk-item\"><div class=\"sk-estimator sk-toggleable\"><input class=\"sk-toggleable__control sk-hidden--visually\" id=\"sk-estimator-id-3\" type=\"checkbox\" checked><label for=\"sk-estimator-id-3\" class=\"sk-toggleable__label sk-toggleable__label-arrow\">GaussianMixture</label><div class=\"sk-toggleable__content\"><pre>GaussianMixture(n_components=7, random_state=23)</pre></div></div></div></div></div>"
            ],
            "text/plain": [
              "GaussianMixture(n_components=7, random_state=23)"
            ]
          },
          "execution_count": 37,
          "metadata": {},
          "output_type": "execute_result"
        }
      ],
      "source": [
        "gm = GaussianMixture(n_components=7, random_state=23)\n",
        "gm.fit(pca_df)"
      ]
    },
    {
      "cell_type": "code",
      "execution_count": 38,
      "metadata": {},
      "outputs": [],
      "source": [
        "spotify_gm = tracks_data.copy()\n",
        "spotify_gm['cluster_label'] = gm.predict(pca_df)"
      ]
    },
    {
      "cell_type": "code",
      "execution_count": 39,
      "metadata": {},
      "outputs": [
        {
          "name": "stdout",
          "output_type": "stream",
          "text": [
            "389237.3791974227\n"
          ]
        }
      ],
      "source": [
        "x=metrics.calinski_harabasz_score(pca_df, spotify_gm['cluster_label'])\n",
        "print(x)\n",
        "#Gausian Mixture\n",
        "dict1['Gausian Mixture']=x"
      ]
    },
    {
      "cell_type": "markdown",
      "metadata": {},
      "source": [
        "#### Accuracy for these Clustering Algorithms\n",
        "\n",
        "We will be using the Calinski Harabasz score from sklearn.metrics\n",
        "\n",
        "Calinski-Harabasz (CH) Index (introduced by Calinski and Harabasz in 1974) can be used to evaluate the model when ground truth labels are not known where the validation of how well the clustering has been done is made using quantities and features inherent to the dataset. The CH Index (also known as Variance ratio criterion) is a measure of how similar an object is to its own cluster (cohesion) compared to other clusters (separation).\n",
        "\n",
        "The Higher the score the Better the Result."
      ]
    },
    {
      "cell_type": "code",
      "execution_count": 40,
      "metadata": {},
      "outputs": [],
      "source": [
        "m = pd.DataFrame(list(dict1.items()),columns = ['cluster','score'])"
      ]
    },
    {
      "cell_type": "code",
      "execution_count": 41,
      "metadata": {},
      "outputs": [
        {
          "data": {
            "text/html": [
              "<div>\n",
              "<style scoped>\n",
              "    .dataframe tbody tr th:only-of-type {\n",
              "        vertical-align: middle;\n",
              "    }\n",
              "\n",
              "    .dataframe tbody tr th {\n",
              "        vertical-align: top;\n",
              "    }\n",
              "\n",
              "    .dataframe thead th {\n",
              "        text-align: right;\n",
              "    }\n",
              "</style>\n",
              "<table border=\"1\" class=\"dataframe\">\n",
              "  <thead>\n",
              "    <tr style=\"text-align: right;\">\n",
              "      <th></th>\n",
              "      <th>score</th>\n",
              "    </tr>\n",
              "    <tr>\n",
              "      <th>cluster</th>\n",
              "      <th></th>\n",
              "    </tr>\n",
              "  </thead>\n",
              "  <tbody>\n",
              "    <tr>\n",
              "      <th>kmeans</th>\n",
              "      <td>384120.225726</td>\n",
              "    </tr>\n",
              "    <tr>\n",
              "      <th>BIRCH</th>\n",
              "      <td>96518.124487</td>\n",
              "    </tr>\n",
              "    <tr>\n",
              "      <th>fuzzy c</th>\n",
              "      <td>370231.222556</td>\n",
              "    </tr>\n",
              "    <tr>\n",
              "      <th>Gausian Mixture</th>\n",
              "      <td>389237.379197</td>\n",
              "    </tr>\n",
              "  </tbody>\n",
              "</table>\n",
              "</div>"
            ],
            "text/plain": [
              "                         score\n",
              "cluster                       \n",
              "kmeans           384120.225726\n",
              "BIRCH             96518.124487\n",
              "fuzzy c          370231.222556\n",
              "Gausian Mixture  389237.379197"
            ]
          },
          "execution_count": 41,
          "metadata": {},
          "output_type": "execute_result"
        }
      ],
      "source": [
        "m.set_index('cluster',inplace=True)\n",
        "m"
      ]
    },
    {
      "cell_type": "code",
      "execution_count": 42,
      "metadata": {},
      "outputs": [
        {
          "data": {
            "application/vnd.plotly.v1+json": {
              "config": {
                "plotlyServerURL": "https://plot.ly"
              },
              "data": [
                {
                  "alignmentgroup": "True",
                  "hovertemplate": "variable=score<br>value=%{x}<br>cluster=%{y}<extra></extra>",
                  "legendgroup": "score",
                  "marker": {
                    "color": "#636efa",
                    "pattern": {
                      "shape": ""
                    }
                  },
                  "name": "score",
                  "offsetgroup": "score",
                  "orientation": "h",
                  "showlegend": true,
                  "textposition": "auto",
                  "type": "bar",
                  "x": [
                    384120.22572595644,
                    96518.12448719343,
                    370231.2225564328,
                    389237.3791974227
                  ],
                  "xaxis": "x",
                  "y": [
                    "kmeans",
                    "BIRCH",
                    "fuzzy c",
                    "Gausian Mixture"
                  ],
                  "yaxis": "y"
                }
              ],
              "layout": {
                "barmode": "relative",
                "legend": {
                  "title": {
                    "text": "variable"
                  },
                  "tracegroupgap": 0
                },
                "margin": {
                  "t": 60
                },
                "template": {
                  "data": {
                    "bar": [
                      {
                        "error_x": {
                          "color": "#2a3f5f"
                        },
                        "error_y": {
                          "color": "#2a3f5f"
                        },
                        "marker": {
                          "line": {
                            "color": "#E5ECF6",
                            "width": 0.5
                          },
                          "pattern": {
                            "fillmode": "overlay",
                            "size": 10,
                            "solidity": 0.2
                          }
                        },
                        "type": "bar"
                      }
                    ],
                    "barpolar": [
                      {
                        "marker": {
                          "line": {
                            "color": "#E5ECF6",
                            "width": 0.5
                          },
                          "pattern": {
                            "fillmode": "overlay",
                            "size": 10,
                            "solidity": 0.2
                          }
                        },
                        "type": "barpolar"
                      }
                    ],
                    "carpet": [
                      {
                        "aaxis": {
                          "endlinecolor": "#2a3f5f",
                          "gridcolor": "white",
                          "linecolor": "white",
                          "minorgridcolor": "white",
                          "startlinecolor": "#2a3f5f"
                        },
                        "baxis": {
                          "endlinecolor": "#2a3f5f",
                          "gridcolor": "white",
                          "linecolor": "white",
                          "minorgridcolor": "white",
                          "startlinecolor": "#2a3f5f"
                        },
                        "type": "carpet"
                      }
                    ],
                    "choropleth": [
                      {
                        "colorbar": {
                          "outlinewidth": 0,
                          "ticks": ""
                        },
                        "type": "choropleth"
                      }
                    ],
                    "contour": [
                      {
                        "colorbar": {
                          "outlinewidth": 0,
                          "ticks": ""
                        },
                        "colorscale": [
                          [
                            0,
                            "#0d0887"
                          ],
                          [
                            0.1111111111111111,
                            "#46039f"
                          ],
                          [
                            0.2222222222222222,
                            "#7201a8"
                          ],
                          [
                            0.3333333333333333,
                            "#9c179e"
                          ],
                          [
                            0.4444444444444444,
                            "#bd3786"
                          ],
                          [
                            0.5555555555555556,
                            "#d8576b"
                          ],
                          [
                            0.6666666666666666,
                            "#ed7953"
                          ],
                          [
                            0.7777777777777778,
                            "#fb9f3a"
                          ],
                          [
                            0.8888888888888888,
                            "#fdca26"
                          ],
                          [
                            1,
                            "#f0f921"
                          ]
                        ],
                        "type": "contour"
                      }
                    ],
                    "contourcarpet": [
                      {
                        "colorbar": {
                          "outlinewidth": 0,
                          "ticks": ""
                        },
                        "type": "contourcarpet"
                      }
                    ],
                    "heatmap": [
                      {
                        "colorbar": {
                          "outlinewidth": 0,
                          "ticks": ""
                        },
                        "colorscale": [
                          [
                            0,
                            "#0d0887"
                          ],
                          [
                            0.1111111111111111,
                            "#46039f"
                          ],
                          [
                            0.2222222222222222,
                            "#7201a8"
                          ],
                          [
                            0.3333333333333333,
                            "#9c179e"
                          ],
                          [
                            0.4444444444444444,
                            "#bd3786"
                          ],
                          [
                            0.5555555555555556,
                            "#d8576b"
                          ],
                          [
                            0.6666666666666666,
                            "#ed7953"
                          ],
                          [
                            0.7777777777777778,
                            "#fb9f3a"
                          ],
                          [
                            0.8888888888888888,
                            "#fdca26"
                          ],
                          [
                            1,
                            "#f0f921"
                          ]
                        ],
                        "type": "heatmap"
                      }
                    ],
                    "heatmapgl": [
                      {
                        "colorbar": {
                          "outlinewidth": 0,
                          "ticks": ""
                        },
                        "colorscale": [
                          [
                            0,
                            "#0d0887"
                          ],
                          [
                            0.1111111111111111,
                            "#46039f"
                          ],
                          [
                            0.2222222222222222,
                            "#7201a8"
                          ],
                          [
                            0.3333333333333333,
                            "#9c179e"
                          ],
                          [
                            0.4444444444444444,
                            "#bd3786"
                          ],
                          [
                            0.5555555555555556,
                            "#d8576b"
                          ],
                          [
                            0.6666666666666666,
                            "#ed7953"
                          ],
                          [
                            0.7777777777777778,
                            "#fb9f3a"
                          ],
                          [
                            0.8888888888888888,
                            "#fdca26"
                          ],
                          [
                            1,
                            "#f0f921"
                          ]
                        ],
                        "type": "heatmapgl"
                      }
                    ],
                    "histogram": [
                      {
                        "marker": {
                          "pattern": {
                            "fillmode": "overlay",
                            "size": 10,
                            "solidity": 0.2
                          }
                        },
                        "type": "histogram"
                      }
                    ],
                    "histogram2d": [
                      {
                        "colorbar": {
                          "outlinewidth": 0,
                          "ticks": ""
                        },
                        "colorscale": [
                          [
                            0,
                            "#0d0887"
                          ],
                          [
                            0.1111111111111111,
                            "#46039f"
                          ],
                          [
                            0.2222222222222222,
                            "#7201a8"
                          ],
                          [
                            0.3333333333333333,
                            "#9c179e"
                          ],
                          [
                            0.4444444444444444,
                            "#bd3786"
                          ],
                          [
                            0.5555555555555556,
                            "#d8576b"
                          ],
                          [
                            0.6666666666666666,
                            "#ed7953"
                          ],
                          [
                            0.7777777777777778,
                            "#fb9f3a"
                          ],
                          [
                            0.8888888888888888,
                            "#fdca26"
                          ],
                          [
                            1,
                            "#f0f921"
                          ]
                        ],
                        "type": "histogram2d"
                      }
                    ],
                    "histogram2dcontour": [
                      {
                        "colorbar": {
                          "outlinewidth": 0,
                          "ticks": ""
                        },
                        "colorscale": [
                          [
                            0,
                            "#0d0887"
                          ],
                          [
                            0.1111111111111111,
                            "#46039f"
                          ],
                          [
                            0.2222222222222222,
                            "#7201a8"
                          ],
                          [
                            0.3333333333333333,
                            "#9c179e"
                          ],
                          [
                            0.4444444444444444,
                            "#bd3786"
                          ],
                          [
                            0.5555555555555556,
                            "#d8576b"
                          ],
                          [
                            0.6666666666666666,
                            "#ed7953"
                          ],
                          [
                            0.7777777777777778,
                            "#fb9f3a"
                          ],
                          [
                            0.8888888888888888,
                            "#fdca26"
                          ],
                          [
                            1,
                            "#f0f921"
                          ]
                        ],
                        "type": "histogram2dcontour"
                      }
                    ],
                    "mesh3d": [
                      {
                        "colorbar": {
                          "outlinewidth": 0,
                          "ticks": ""
                        },
                        "type": "mesh3d"
                      }
                    ],
                    "parcoords": [
                      {
                        "line": {
                          "colorbar": {
                            "outlinewidth": 0,
                            "ticks": ""
                          }
                        },
                        "type": "parcoords"
                      }
                    ],
                    "pie": [
                      {
                        "automargin": true,
                        "type": "pie"
                      }
                    ],
                    "scatter": [
                      {
                        "fillpattern": {
                          "fillmode": "overlay",
                          "size": 10,
                          "solidity": 0.2
                        },
                        "type": "scatter"
                      }
                    ],
                    "scatter3d": [
                      {
                        "line": {
                          "colorbar": {
                            "outlinewidth": 0,
                            "ticks": ""
                          }
                        },
                        "marker": {
                          "colorbar": {
                            "outlinewidth": 0,
                            "ticks": ""
                          }
                        },
                        "type": "scatter3d"
                      }
                    ],
                    "scattercarpet": [
                      {
                        "marker": {
                          "colorbar": {
                            "outlinewidth": 0,
                            "ticks": ""
                          }
                        },
                        "type": "scattercarpet"
                      }
                    ],
                    "scattergeo": [
                      {
                        "marker": {
                          "colorbar": {
                            "outlinewidth": 0,
                            "ticks": ""
                          }
                        },
                        "type": "scattergeo"
                      }
                    ],
                    "scattergl": [
                      {
                        "marker": {
                          "colorbar": {
                            "outlinewidth": 0,
                            "ticks": ""
                          }
                        },
                        "type": "scattergl"
                      }
                    ],
                    "scattermapbox": [
                      {
                        "marker": {
                          "colorbar": {
                            "outlinewidth": 0,
                            "ticks": ""
                          }
                        },
                        "type": "scattermapbox"
                      }
                    ],
                    "scatterpolar": [
                      {
                        "marker": {
                          "colorbar": {
                            "outlinewidth": 0,
                            "ticks": ""
                          }
                        },
                        "type": "scatterpolar"
                      }
                    ],
                    "scatterpolargl": [
                      {
                        "marker": {
                          "colorbar": {
                            "outlinewidth": 0,
                            "ticks": ""
                          }
                        },
                        "type": "scatterpolargl"
                      }
                    ],
                    "scatterternary": [
                      {
                        "marker": {
                          "colorbar": {
                            "outlinewidth": 0,
                            "ticks": ""
                          }
                        },
                        "type": "scatterternary"
                      }
                    ],
                    "surface": [
                      {
                        "colorbar": {
                          "outlinewidth": 0,
                          "ticks": ""
                        },
                        "colorscale": [
                          [
                            0,
                            "#0d0887"
                          ],
                          [
                            0.1111111111111111,
                            "#46039f"
                          ],
                          [
                            0.2222222222222222,
                            "#7201a8"
                          ],
                          [
                            0.3333333333333333,
                            "#9c179e"
                          ],
                          [
                            0.4444444444444444,
                            "#bd3786"
                          ],
                          [
                            0.5555555555555556,
                            "#d8576b"
                          ],
                          [
                            0.6666666666666666,
                            "#ed7953"
                          ],
                          [
                            0.7777777777777778,
                            "#fb9f3a"
                          ],
                          [
                            0.8888888888888888,
                            "#fdca26"
                          ],
                          [
                            1,
                            "#f0f921"
                          ]
                        ],
                        "type": "surface"
                      }
                    ],
                    "table": [
                      {
                        "cells": {
                          "fill": {
                            "color": "#EBF0F8"
                          },
                          "line": {
                            "color": "white"
                          }
                        },
                        "header": {
                          "fill": {
                            "color": "#C8D4E3"
                          },
                          "line": {
                            "color": "white"
                          }
                        },
                        "type": "table"
                      }
                    ]
                  },
                  "layout": {
                    "annotationdefaults": {
                      "arrowcolor": "#2a3f5f",
                      "arrowhead": 0,
                      "arrowwidth": 1
                    },
                    "autotypenumbers": "strict",
                    "coloraxis": {
                      "colorbar": {
                        "outlinewidth": 0,
                        "ticks": ""
                      }
                    },
                    "colorscale": {
                      "diverging": [
                        [
                          0,
                          "#8e0152"
                        ],
                        [
                          0.1,
                          "#c51b7d"
                        ],
                        [
                          0.2,
                          "#de77ae"
                        ],
                        [
                          0.3,
                          "#f1b6da"
                        ],
                        [
                          0.4,
                          "#fde0ef"
                        ],
                        [
                          0.5,
                          "#f7f7f7"
                        ],
                        [
                          0.6,
                          "#e6f5d0"
                        ],
                        [
                          0.7,
                          "#b8e186"
                        ],
                        [
                          0.8,
                          "#7fbc41"
                        ],
                        [
                          0.9,
                          "#4d9221"
                        ],
                        [
                          1,
                          "#276419"
                        ]
                      ],
                      "sequential": [
                        [
                          0,
                          "#0d0887"
                        ],
                        [
                          0.1111111111111111,
                          "#46039f"
                        ],
                        [
                          0.2222222222222222,
                          "#7201a8"
                        ],
                        [
                          0.3333333333333333,
                          "#9c179e"
                        ],
                        [
                          0.4444444444444444,
                          "#bd3786"
                        ],
                        [
                          0.5555555555555556,
                          "#d8576b"
                        ],
                        [
                          0.6666666666666666,
                          "#ed7953"
                        ],
                        [
                          0.7777777777777778,
                          "#fb9f3a"
                        ],
                        [
                          0.8888888888888888,
                          "#fdca26"
                        ],
                        [
                          1,
                          "#f0f921"
                        ]
                      ],
                      "sequentialminus": [
                        [
                          0,
                          "#0d0887"
                        ],
                        [
                          0.1111111111111111,
                          "#46039f"
                        ],
                        [
                          0.2222222222222222,
                          "#7201a8"
                        ],
                        [
                          0.3333333333333333,
                          "#9c179e"
                        ],
                        [
                          0.4444444444444444,
                          "#bd3786"
                        ],
                        [
                          0.5555555555555556,
                          "#d8576b"
                        ],
                        [
                          0.6666666666666666,
                          "#ed7953"
                        ],
                        [
                          0.7777777777777778,
                          "#fb9f3a"
                        ],
                        [
                          0.8888888888888888,
                          "#fdca26"
                        ],
                        [
                          1,
                          "#f0f921"
                        ]
                      ]
                    },
                    "colorway": [
                      "#636efa",
                      "#EF553B",
                      "#00cc96",
                      "#ab63fa",
                      "#FFA15A",
                      "#19d3f3",
                      "#FF6692",
                      "#B6E880",
                      "#FF97FF",
                      "#FECB52"
                    ],
                    "font": {
                      "color": "#2a3f5f"
                    },
                    "geo": {
                      "bgcolor": "white",
                      "lakecolor": "white",
                      "landcolor": "#E5ECF6",
                      "showlakes": true,
                      "showland": true,
                      "subunitcolor": "white"
                    },
                    "hoverlabel": {
                      "align": "left"
                    },
                    "hovermode": "closest",
                    "mapbox": {
                      "style": "light"
                    },
                    "paper_bgcolor": "white",
                    "plot_bgcolor": "#E5ECF6",
                    "polar": {
                      "angularaxis": {
                        "gridcolor": "white",
                        "linecolor": "white",
                        "ticks": ""
                      },
                      "bgcolor": "#E5ECF6",
                      "radialaxis": {
                        "gridcolor": "white",
                        "linecolor": "white",
                        "ticks": ""
                      }
                    },
                    "scene": {
                      "xaxis": {
                        "backgroundcolor": "#E5ECF6",
                        "gridcolor": "white",
                        "gridwidth": 2,
                        "linecolor": "white",
                        "showbackground": true,
                        "ticks": "",
                        "zerolinecolor": "white"
                      },
                      "yaxis": {
                        "backgroundcolor": "#E5ECF6",
                        "gridcolor": "white",
                        "gridwidth": 2,
                        "linecolor": "white",
                        "showbackground": true,
                        "ticks": "",
                        "zerolinecolor": "white"
                      },
                      "zaxis": {
                        "backgroundcolor": "#E5ECF6",
                        "gridcolor": "white",
                        "gridwidth": 2,
                        "linecolor": "white",
                        "showbackground": true,
                        "ticks": "",
                        "zerolinecolor": "white"
                      }
                    },
                    "shapedefaults": {
                      "line": {
                        "color": "#2a3f5f"
                      }
                    },
                    "ternary": {
                      "aaxis": {
                        "gridcolor": "white",
                        "linecolor": "white",
                        "ticks": ""
                      },
                      "baxis": {
                        "gridcolor": "white",
                        "linecolor": "white",
                        "ticks": ""
                      },
                      "bgcolor": "#E5ECF6",
                      "caxis": {
                        "gridcolor": "white",
                        "linecolor": "white",
                        "ticks": ""
                      }
                    },
                    "title": {
                      "x": 0.05
                    },
                    "xaxis": {
                      "automargin": true,
                      "gridcolor": "white",
                      "linecolor": "white",
                      "ticks": "",
                      "title": {
                        "standoff": 15
                      },
                      "zerolinecolor": "white",
                      "zerolinewidth": 2
                    },
                    "yaxis": {
                      "automargin": true,
                      "gridcolor": "white",
                      "linecolor": "white",
                      "ticks": "",
                      "title": {
                        "standoff": 15
                      },
                      "zerolinecolor": "white",
                      "zerolinewidth": 2
                    }
                  }
                },
                "xaxis": {
                  "anchor": "y",
                  "domain": [
                    0,
                    1
                  ],
                  "title": {
                    "text": "value"
                  }
                },
                "yaxis": {
                  "anchor": "x",
                  "domain": [
                    0,
                    1
                  ],
                  "title": {
                    "text": "cluster"
                  }
                }
              }
            }
          },
          "metadata": {},
          "output_type": "display_data"
        }
      ],
      "source": [
        "fig = px.bar(m, orientation='h')\n",
        "fig.show()"
      ]
    },
    {
      "cell_type": "markdown",
      "metadata": {},
      "source": [
        "As we see above, kmeans is the best compared to **fuzzy c** & **Gaussian Mixture** with a score of **458.981k** \n",
        "\n",
        "Hence, we will go ahead with kmeans"
      ]
    },
    {
      "cell_type": "markdown",
      "metadata": {},
      "source": [
        "### Final Conclusion --> Clustering Songs with KMeans"
      ]
    },
    {
      "cell_type": "code",
      "execution_count": 43,
      "metadata": {},
      "outputs": [
        {
          "name": "stderr",
          "output_type": "stream",
          "text": [
            "/Users/pranavpadhiyar/miniforge3/envs/tf_gpu_2/lib/python3.10/site-packages/sklearn/cluster/_kmeans.py:870: FutureWarning:\n",
            "\n",
            "The default value of `n_init` will change from 10 to 'auto' in 1.4. Set the value of `n_init` explicitly to suppress the warning\n",
            "\n"
          ]
        }
      ],
      "source": [
        "song_cluster_pipeline = Pipeline([('scaler', StandardScaler()), \n",
        "                                  ('kmeans', KMeans(n_clusters=20, \n",
        "                                   verbose=False))\n",
        "                                 ], verbose=False)\n",
        "\n",
        "X = tracks_data.select_dtypes(np.number)\n",
        "number_cols = list(X.columns)\n",
        "song_cluster_pipeline.fit(X)\n",
        "song_cluster_labels = song_cluster_pipeline.predict(X)\n",
        "tracks_data['cluster_label'] = song_cluster_labels"
      ]
    },
    {
      "cell_type": "code",
      "execution_count": 44,
      "metadata": {},
      "outputs": [
        {
          "data": {
            "text/plain": [
              "(526609,)"
            ]
          },
          "execution_count": 44,
          "metadata": {},
          "output_type": "execute_result"
        }
      ],
      "source": [
        "tracks_data['cluster_label'].shape"
      ]
    },
    {
      "cell_type": "code",
      "execution_count": 45,
      "metadata": {},
      "outputs": [
        {
          "data": {
            "text/html": [
              "<div>\n",
              "<style scoped>\n",
              "    .dataframe tbody tr th:only-of-type {\n",
              "        vertical-align: middle;\n",
              "    }\n",
              "\n",
              "    .dataframe tbody tr th {\n",
              "        vertical-align: top;\n",
              "    }\n",
              "\n",
              "    .dataframe thead th {\n",
              "        text-align: right;\n",
              "    }\n",
              "</style>\n",
              "<table border=\"1\" class=\"dataframe\">\n",
              "  <thead>\n",
              "    <tr style=\"text-align: right;\">\n",
              "      <th></th>\n",
              "      <th>id</th>\n",
              "      <th>name</th>\n",
              "      <th>popularity</th>\n",
              "      <th>duration_ms</th>\n",
              "      <th>explicit</th>\n",
              "      <th>artists</th>\n",
              "      <th>id_artists</th>\n",
              "      <th>release_date</th>\n",
              "      <th>danceability</th>\n",
              "      <th>energy</th>\n",
              "      <th>...</th>\n",
              "      <th>speechiness</th>\n",
              "      <th>acousticness</th>\n",
              "      <th>instrumentalness</th>\n",
              "      <th>liveness</th>\n",
              "      <th>valence</th>\n",
              "      <th>tempo</th>\n",
              "      <th>time_signature</th>\n",
              "      <th>year</th>\n",
              "      <th>tempo_class</th>\n",
              "      <th>cluster_label</th>\n",
              "    </tr>\n",
              "  </thead>\n",
              "  <tbody>\n",
              "    <tr>\n",
              "      <th>0</th>\n",
              "      <td>35iwgR4jXetI318WEWsa1Q</td>\n",
              "      <td>Carve</td>\n",
              "      <td>6</td>\n",
              "      <td>126903</td>\n",
              "      <td>0</td>\n",
              "      <td>['Uli']</td>\n",
              "      <td>['45tIt06XoI0Iio4LBEVpls']</td>\n",
              "      <td>1922-02-22</td>\n",
              "      <td>0.645</td>\n",
              "      <td>0.4450</td>\n",
              "      <td>...</td>\n",
              "      <td>0.4510</td>\n",
              "      <td>0.674</td>\n",
              "      <td>0.744000</td>\n",
              "      <td>0.1510</td>\n",
              "      <td>0.1270</td>\n",
              "      <td>104.851</td>\n",
              "      <td>3</td>\n",
              "      <td>1922</td>\n",
              "      <td>class2</td>\n",
              "      <td>1</td>\n",
              "    </tr>\n",
              "    <tr>\n",
              "      <th>1</th>\n",
              "      <td>021ht4sdgPcrDgSk7JTbKY</td>\n",
              "      <td>Capítulo 2.16 - Banquero Anarquista</td>\n",
              "      <td>0</td>\n",
              "      <td>98200</td>\n",
              "      <td>0</td>\n",
              "      <td>['Fernando Pessoa']</td>\n",
              "      <td>['14jtPCOoNZwquk5wd9DxrY']</td>\n",
              "      <td>1922-06-01</td>\n",
              "      <td>0.695</td>\n",
              "      <td>0.2630</td>\n",
              "      <td>...</td>\n",
              "      <td>0.9570</td>\n",
              "      <td>0.797</td>\n",
              "      <td>0.000000</td>\n",
              "      <td>0.1480</td>\n",
              "      <td>0.6550</td>\n",
              "      <td>102.009</td>\n",
              "      <td>1</td>\n",
              "      <td>1922</td>\n",
              "      <td>class2</td>\n",
              "      <td>9</td>\n",
              "    </tr>\n",
              "    <tr>\n",
              "      <th>2</th>\n",
              "      <td>07A5yehtSnoedViJAZkNnc</td>\n",
              "      <td>Vivo para Quererte - Remasterizado</td>\n",
              "      <td>0</td>\n",
              "      <td>181640</td>\n",
              "      <td>0</td>\n",
              "      <td>['Ignacio Corsini']</td>\n",
              "      <td>['5LiOoJbxVSAMkBS2fUm3X2']</td>\n",
              "      <td>1922-03-21</td>\n",
              "      <td>0.434</td>\n",
              "      <td>0.1770</td>\n",
              "      <td>...</td>\n",
              "      <td>0.0512</td>\n",
              "      <td>0.994</td>\n",
              "      <td>0.021800</td>\n",
              "      <td>0.2120</td>\n",
              "      <td>0.4570</td>\n",
              "      <td>130.418</td>\n",
              "      <td>5</td>\n",
              "      <td>1922</td>\n",
              "      <td>class3</td>\n",
              "      <td>12</td>\n",
              "    </tr>\n",
              "    <tr>\n",
              "      <th>3</th>\n",
              "      <td>08FmqUhxtyLTn6pAh6bk45</td>\n",
              "      <td>El Prisionero - Remasterizado</td>\n",
              "      <td>0</td>\n",
              "      <td>176907</td>\n",
              "      <td>0</td>\n",
              "      <td>['Ignacio Corsini']</td>\n",
              "      <td>['5LiOoJbxVSAMkBS2fUm3X2']</td>\n",
              "      <td>1922-03-21</td>\n",
              "      <td>0.321</td>\n",
              "      <td>0.0946</td>\n",
              "      <td>...</td>\n",
              "      <td>0.0504</td>\n",
              "      <td>0.995</td>\n",
              "      <td>0.918000</td>\n",
              "      <td>0.1040</td>\n",
              "      <td>0.3970</td>\n",
              "      <td>169.980</td>\n",
              "      <td>3</td>\n",
              "      <td>1922</td>\n",
              "      <td>class3</td>\n",
              "      <td>19</td>\n",
              "    </tr>\n",
              "    <tr>\n",
              "      <th>4</th>\n",
              "      <td>08y9GfoqCWfOGsKdwojr5e</td>\n",
              "      <td>Lady of the Evening</td>\n",
              "      <td>0</td>\n",
              "      <td>163080</td>\n",
              "      <td>0</td>\n",
              "      <td>['Dick Haymes']</td>\n",
              "      <td>['3BiJGZsyX9sJchTqcSA7Su']</td>\n",
              "      <td>1922</td>\n",
              "      <td>0.402</td>\n",
              "      <td>0.1580</td>\n",
              "      <td>...</td>\n",
              "      <td>0.0390</td>\n",
              "      <td>0.989</td>\n",
              "      <td>0.130000</td>\n",
              "      <td>0.3110</td>\n",
              "      <td>0.1960</td>\n",
              "      <td>103.220</td>\n",
              "      <td>4</td>\n",
              "      <td>1922</td>\n",
              "      <td>class2</td>\n",
              "      <td>12</td>\n",
              "    </tr>\n",
              "    <tr>\n",
              "      <th>...</th>\n",
              "      <td>...</td>\n",
              "      <td>...</td>\n",
              "      <td>...</td>\n",
              "      <td>...</td>\n",
              "      <td>...</td>\n",
              "      <td>...</td>\n",
              "      <td>...</td>\n",
              "      <td>...</td>\n",
              "      <td>...</td>\n",
              "      <td>...</td>\n",
              "      <td>...</td>\n",
              "      <td>...</td>\n",
              "      <td>...</td>\n",
              "      <td>...</td>\n",
              "      <td>...</td>\n",
              "      <td>...</td>\n",
              "      <td>...</td>\n",
              "      <td>...</td>\n",
              "      <td>...</td>\n",
              "      <td>...</td>\n",
              "      <td>...</td>\n",
              "    </tr>\n",
              "    <tr>\n",
              "      <th>586667</th>\n",
              "      <td>5rgu12WBIHQtvej2MdHSH0</td>\n",
              "      <td>云与海</td>\n",
              "      <td>50</td>\n",
              "      <td>258267</td>\n",
              "      <td>0</td>\n",
              "      <td>['阿YueYue']</td>\n",
              "      <td>['1QLBXKM5GCpyQQSVMNZqrZ']</td>\n",
              "      <td>2020-09-26</td>\n",
              "      <td>0.560</td>\n",
              "      <td>0.5180</td>\n",
              "      <td>...</td>\n",
              "      <td>0.0292</td>\n",
              "      <td>0.785</td>\n",
              "      <td>0.000000</td>\n",
              "      <td>0.0648</td>\n",
              "      <td>0.2110</td>\n",
              "      <td>131.896</td>\n",
              "      <td>4</td>\n",
              "      <td>2020</td>\n",
              "      <td>class3</td>\n",
              "      <td>14</td>\n",
              "    </tr>\n",
              "    <tr>\n",
              "      <th>586668</th>\n",
              "      <td>0NuWgxEp51CutD2pJoF4OM</td>\n",
              "      <td>blind</td>\n",
              "      <td>72</td>\n",
              "      <td>153293</td>\n",
              "      <td>0</td>\n",
              "      <td>['ROLE MODEL']</td>\n",
              "      <td>['1dy5WNgIKQU6ezkpZs4y8z']</td>\n",
              "      <td>2020-10-21</td>\n",
              "      <td>0.765</td>\n",
              "      <td>0.6630</td>\n",
              "      <td>...</td>\n",
              "      <td>0.0652</td>\n",
              "      <td>0.141</td>\n",
              "      <td>0.000297</td>\n",
              "      <td>0.0924</td>\n",
              "      <td>0.6860</td>\n",
              "      <td>150.091</td>\n",
              "      <td>4</td>\n",
              "      <td>2020</td>\n",
              "      <td>class3</td>\n",
              "      <td>10</td>\n",
              "    </tr>\n",
              "    <tr>\n",
              "      <th>586669</th>\n",
              "      <td>27Y1N4Q4U3EfDU5Ubw8ws2</td>\n",
              "      <td>What They'll Say About Us</td>\n",
              "      <td>70</td>\n",
              "      <td>187601</td>\n",
              "      <td>0</td>\n",
              "      <td>['FINNEAS']</td>\n",
              "      <td>['37M5pPGs6V1fchFJSgCguX']</td>\n",
              "      <td>2020-09-02</td>\n",
              "      <td>0.535</td>\n",
              "      <td>0.3140</td>\n",
              "      <td>...</td>\n",
              "      <td>0.0408</td>\n",
              "      <td>0.895</td>\n",
              "      <td>0.000150</td>\n",
              "      <td>0.0874</td>\n",
              "      <td>0.0663</td>\n",
              "      <td>145.095</td>\n",
              "      <td>4</td>\n",
              "      <td>2020</td>\n",
              "      <td>class3</td>\n",
              "      <td>5</td>\n",
              "    </tr>\n",
              "    <tr>\n",
              "      <th>586670</th>\n",
              "      <td>45XJsGpFTyzbzeWK8VzR8S</td>\n",
              "      <td>A Day At A Time</td>\n",
              "      <td>58</td>\n",
              "      <td>142003</td>\n",
              "      <td>0</td>\n",
              "      <td>['Gentle Bones', 'Clara Benin']</td>\n",
              "      <td>['4jGPdu95icCKVF31CcFKbS', '5ebPSE9YI5aLeZ1Z2g...</td>\n",
              "      <td>2021-03-05</td>\n",
              "      <td>0.696</td>\n",
              "      <td>0.6150</td>\n",
              "      <td>...</td>\n",
              "      <td>0.0345</td>\n",
              "      <td>0.206</td>\n",
              "      <td>0.000003</td>\n",
              "      <td>0.3050</td>\n",
              "      <td>0.4380</td>\n",
              "      <td>90.029</td>\n",
              "      <td>4</td>\n",
              "      <td>2021</td>\n",
              "      <td>class2</td>\n",
              "      <td>8</td>\n",
              "    </tr>\n",
              "    <tr>\n",
              "      <th>586671</th>\n",
              "      <td>5Ocn6dZ3BJFPWh4ylwFXtn</td>\n",
              "      <td>Mar de Emociones</td>\n",
              "      <td>38</td>\n",
              "      <td>214360</td>\n",
              "      <td>0</td>\n",
              "      <td>['Afrosound']</td>\n",
              "      <td>['0i4Qda0k4nf7jnNHmSNpYv']</td>\n",
              "      <td>2015-07-01</td>\n",
              "      <td>0.686</td>\n",
              "      <td>0.7230</td>\n",
              "      <td>...</td>\n",
              "      <td>0.0363</td>\n",
              "      <td>0.105</td>\n",
              "      <td>0.000000</td>\n",
              "      <td>0.2640</td>\n",
              "      <td>0.9750</td>\n",
              "      <td>112.204</td>\n",
              "      <td>4</td>\n",
              "      <td>2015</td>\n",
              "      <td>class2</td>\n",
              "      <td>8</td>\n",
              "    </tr>\n",
              "  </tbody>\n",
              "</table>\n",
              "<p>526609 rows × 23 columns</p>\n",
              "</div>"
            ],
            "text/plain": [
              "                            id                                 name  \\\n",
              "0       35iwgR4jXetI318WEWsa1Q                                Carve   \n",
              "1       021ht4sdgPcrDgSk7JTbKY  Capítulo 2.16 - Banquero Anarquista   \n",
              "2       07A5yehtSnoedViJAZkNnc   Vivo para Quererte - Remasterizado   \n",
              "3       08FmqUhxtyLTn6pAh6bk45        El Prisionero - Remasterizado   \n",
              "4       08y9GfoqCWfOGsKdwojr5e                  Lady of the Evening   \n",
              "...                        ...                                  ...   \n",
              "586667  5rgu12WBIHQtvej2MdHSH0                                  云与海   \n",
              "586668  0NuWgxEp51CutD2pJoF4OM                                blind   \n",
              "586669  27Y1N4Q4U3EfDU5Ubw8ws2            What They'll Say About Us   \n",
              "586670  45XJsGpFTyzbzeWK8VzR8S                      A Day At A Time   \n",
              "586671  5Ocn6dZ3BJFPWh4ylwFXtn                     Mar de Emociones   \n",
              "\n",
              "        popularity  duration_ms  explicit                          artists  \\\n",
              "0                6       126903         0                          ['Uli']   \n",
              "1                0        98200         0              ['Fernando Pessoa']   \n",
              "2                0       181640         0              ['Ignacio Corsini']   \n",
              "3                0       176907         0              ['Ignacio Corsini']   \n",
              "4                0       163080         0                  ['Dick Haymes']   \n",
              "...            ...          ...       ...                              ...   \n",
              "586667          50       258267         0                      ['阿YueYue']   \n",
              "586668          72       153293         0                   ['ROLE MODEL']   \n",
              "586669          70       187601         0                      ['FINNEAS']   \n",
              "586670          58       142003         0  ['Gentle Bones', 'Clara Benin']   \n",
              "586671          38       214360         0                    ['Afrosound']   \n",
              "\n",
              "                                               id_artists release_date  \\\n",
              "0                              ['45tIt06XoI0Iio4LBEVpls']   1922-02-22   \n",
              "1                              ['14jtPCOoNZwquk5wd9DxrY']   1922-06-01   \n",
              "2                              ['5LiOoJbxVSAMkBS2fUm3X2']   1922-03-21   \n",
              "3                              ['5LiOoJbxVSAMkBS2fUm3X2']   1922-03-21   \n",
              "4                              ['3BiJGZsyX9sJchTqcSA7Su']         1922   \n",
              "...                                                   ...          ...   \n",
              "586667                         ['1QLBXKM5GCpyQQSVMNZqrZ']   2020-09-26   \n",
              "586668                         ['1dy5WNgIKQU6ezkpZs4y8z']   2020-10-21   \n",
              "586669                         ['37M5pPGs6V1fchFJSgCguX']   2020-09-02   \n",
              "586670  ['4jGPdu95icCKVF31CcFKbS', '5ebPSE9YI5aLeZ1Z2g...   2021-03-05   \n",
              "586671                         ['0i4Qda0k4nf7jnNHmSNpYv']   2015-07-01   \n",
              "\n",
              "        danceability  energy  ...  speechiness  acousticness  \\\n",
              "0              0.645  0.4450  ...       0.4510         0.674   \n",
              "1              0.695  0.2630  ...       0.9570         0.797   \n",
              "2              0.434  0.1770  ...       0.0512         0.994   \n",
              "3              0.321  0.0946  ...       0.0504         0.995   \n",
              "4              0.402  0.1580  ...       0.0390         0.989   \n",
              "...              ...     ...  ...          ...           ...   \n",
              "586667         0.560  0.5180  ...       0.0292         0.785   \n",
              "586668         0.765  0.6630  ...       0.0652         0.141   \n",
              "586669         0.535  0.3140  ...       0.0408         0.895   \n",
              "586670         0.696  0.6150  ...       0.0345         0.206   \n",
              "586671         0.686  0.7230  ...       0.0363         0.105   \n",
              "\n",
              "        instrumentalness  liveness  valence    tempo  time_signature  year  \\\n",
              "0               0.744000    0.1510   0.1270  104.851               3  1922   \n",
              "1               0.000000    0.1480   0.6550  102.009               1  1922   \n",
              "2               0.021800    0.2120   0.4570  130.418               5  1922   \n",
              "3               0.918000    0.1040   0.3970  169.980               3  1922   \n",
              "4               0.130000    0.3110   0.1960  103.220               4  1922   \n",
              "...                  ...       ...      ...      ...             ...   ...   \n",
              "586667          0.000000    0.0648   0.2110  131.896               4  2020   \n",
              "586668          0.000297    0.0924   0.6860  150.091               4  2020   \n",
              "586669          0.000150    0.0874   0.0663  145.095               4  2020   \n",
              "586670          0.000003    0.3050   0.4380   90.029               4  2021   \n",
              "586671          0.000000    0.2640   0.9750  112.204               4  2015   \n",
              "\n",
              "        tempo_class  cluster_label  \n",
              "0            class2              1  \n",
              "1            class2              9  \n",
              "2            class3             12  \n",
              "3            class3             19  \n",
              "4            class2             12  \n",
              "...             ...            ...  \n",
              "586667       class3             14  \n",
              "586668       class3             10  \n",
              "586669       class3              5  \n",
              "586670       class2              8  \n",
              "586671       class2              8  \n",
              "\n",
              "[526609 rows x 23 columns]"
            ]
          },
          "execution_count": 45,
          "metadata": {},
          "output_type": "execute_result"
        }
      ],
      "source": [
        "tracks_data"
      ]
    },
    {
      "cell_type": "markdown",
      "metadata": {},
      "source": [
        "## Commenting the code below because it increases the file size to more than 100mb"
      ]
    },
    {
      "cell_type": "code",
      "execution_count": 1,
      "metadata": {},
      "outputs": [],
      "source": [
        "# # Visualizing the Clusters with PCA\n",
        "\n",
        "# from sklearn.decomposition import PCA\n",
        "\n",
        "# pca_pipeline = Pipeline([('scaler', StandardScaler()), ('PCA', PCA(n_components=2))])\n",
        "# song_embedding = pca_pipeline.fit_transform(X)\n",
        "# projection = pd.DataFrame(columns=['x', 'y'], data=song_embedding)\n",
        "# projection['title'] = tracks_data['name']\n",
        "# projection['cluster'] = tracks_data['cluster_label']\n",
        "\n",
        "# fig = px.scatter(\n",
        "#     projection, x='x', y='y', color='cluster', hover_data=['x', 'y', 'title'])\n",
        "# fig.show()"
      ]
    },
    {
      "cell_type": "code",
      "execution_count": 47,
      "metadata": {},
      "outputs": [],
      "source": [
        "tracks_data = tracks_data.drop_duplicates(subset=['name', 'artists'])"
      ]
    },
    {
      "cell_type": "markdown",
      "metadata": {},
      "source": [
        "# Building Recommender System"
      ]
    },
    {
      "cell_type": "code",
      "execution_count": 48,
      "metadata": {},
      "outputs": [
        {
          "name": "stdout",
          "output_type": "stream",
          "text": [
            "<class 'pandas.core.frame.DataFrame'>\n",
            "Int64Index: 526609 entries, 0 to 586671\n",
            "Data columns (total 23 columns):\n",
            " #   Column            Non-Null Count   Dtype  \n",
            "---  ------            --------------   -----  \n",
            " 0   id                526609 non-null  object \n",
            " 1   name              526609 non-null  object \n",
            " 2   popularity        526609 non-null  int64  \n",
            " 3   duration_ms       526609 non-null  int64  \n",
            " 4   explicit          526609 non-null  int64  \n",
            " 5   artists           526609 non-null  object \n",
            " 6   id_artists        526609 non-null  object \n",
            " 7   release_date      526609 non-null  object \n",
            " 8   danceability      526609 non-null  float64\n",
            " 9   energy            526609 non-null  float64\n",
            " 10  key               526609 non-null  int64  \n",
            " 11  loudness          526609 non-null  float64\n",
            " 12  mode              526609 non-null  int64  \n",
            " 13  speechiness       526609 non-null  float64\n",
            " 14  acousticness      526609 non-null  float64\n",
            " 15  instrumentalness  526609 non-null  float64\n",
            " 16  liveness          526609 non-null  float64\n",
            " 17  valence           526609 non-null  float64\n",
            " 18  tempo             526609 non-null  float64\n",
            " 19  time_signature    526609 non-null  int64  \n",
            " 20  year              526609 non-null  int64  \n",
            " 21  tempo_class       526609 non-null  object \n",
            " 22  cluster_label     526609 non-null  int32  \n",
            "dtypes: float64(9), int32(1), int64(7), object(6)\n",
            "memory usage: 94.4+ MB\n"
          ]
        }
      ],
      "source": [
        "tracks_data.info()"
      ]
    },
    {
      "cell_type": "code",
      "execution_count": 49,
      "metadata": {},
      "outputs": [],
      "source": [
        "from sklearn.metrics import silhouette_score, silhouette_samples"
      ]
    },
    {
      "cell_type": "code",
      "execution_count": 81,
      "metadata": {},
      "outputs": [],
      "source": [
        "from collections import defaultdict\n",
        "from sklearn.metrics import euclidean_distances\n",
        "from scipy.spatial.distance import cdist\n",
        "import difflib\n",
        "\n",
        "import pandas as pd\n",
        "from scipy.spatial.distance import cdist, euclidean, cityblock, cosine, jaccard\n",
        "import numpy as np\n",
        "\n",
        "number_cols = ['popularity', 'duration_ms', 'explicit', 'danceability', 'energy', 'key', 'loudness', 'mode', 'speechiness', 'acousticness',\n",
        " 'instrumentalness', 'liveness', 'valence', 'tempo', 'time_signature', 'year']\n",
        "\n",
        "def get_mean_vector(song_list):\n",
        "    \n",
        "    song_vectors = []\n",
        "    \n",
        "    print(song_list[0])\n",
        "\n",
        "    for song in song_list:\n",
        "        song_vector = np.empty((0,))\n",
        "\n",
        "        for col in number_cols:\n",
        "            song_vector = np.append(song_vector, song[col]) \n",
        "        # song_vector = song[number_cols].values\n",
        "        print(type(song_vector))\n",
        "        song_vectors.append(song_vector)  \n",
        "    \n",
        "    print(type(song_vectors))\n",
        "    song_matrix = np.array(list(song_vectors))\n",
        "    return np.mean(song_matrix, axis=0)\n",
        "\n",
        "def check_explicit(Song_df, show_explicit=False):\n",
        "    if show_explicit == False:\n",
        "        explicit_songs = Song_df[Song_df['explicit'] == False]\n",
        "        return explicit_songs\n",
        "    elif show_explicit == True:\n",
        "        return Song_df    \n",
        "\n",
        "def release_year_filter_fun(songs_list, start_year=1920, end_year=2020):\n",
        "    \n",
        "    filter_condition = (songs_list['year'] >= start_year) & (songs_list['year'] <= end_year)\n",
        "    if filter_condition.any():\n",
        "        filtered_songs = songs_list[filter_condition]\n",
        "        return pd.DataFrame(filtered_songs)\n",
        "    else:\n",
        "        return pd.DataFrame(columns=songs_list.columns)          \n",
        "    \n",
        "\n",
        "def tempo_class_filter(songs_list, tempo_value = None):\n",
        "    \n",
        "    if tempo_value == 0:\n",
        "        filtered_tempo = songs_list[songs_list['tempo_class'] == 'class1']\n",
        "\n",
        "    elif tempo_value == 1:\n",
        "        filtered_tempo = songs_list[songs_list['tempo_class'] == 'class2']\n",
        "    else:\n",
        "        filtered_tempo = songs_list[songs_list['tempo_class'] == 'class3']\n",
        "        \n",
        "    return filtered_tempo\n",
        "\n",
        "def recommend_songs(song_list, spotify_data, distance_types=['cosine', 'euclidean', 'cityblock','jaccard'], n_songs=25000, explicit_filter=None, release_year_filter=None, tempo_filter = None):\n",
        "    \n",
        "    metadata_cols = ['name', 'year', 'artists','explicit','tempo','tempo_class','id'] # To-do\n",
        "    \n",
        "    song_center = get_mean_vector(song_list)\n",
        "    print(\"song_center\",song_center)\n",
        "    scaler = song_cluster_pipeline.steps[0][1] #To Do: Standard Scaler()\n",
        "    scaled_data = scaler.transform(spotify_data[number_cols])\n",
        "    scaled_song_center = scaler.transform(song_center.reshape(1, -1))\n",
        "    \n",
        "    \n",
        "    kmeans = song_cluster_pipeline.steps[1][1]\n",
        "    cluster_labels = kmeans.predict(scaled_data)\n",
        "    \n",
        "    # Add the cluster labels as a new column to the spotify_data DataFrame\n",
        "    spotify_data['cluster_label'] = cluster_labels\n",
        "    \n",
        "    distances = []\n",
        "    for distance_type in distance_types:\n",
        "        dist_mat = cdist(scaled_song_center, scaled_data, distance_type)\n",
        "        distances.append(dist_mat)\n",
        "        \n",
        "    ensemble_distances = np.mean(np.stack(distances), axis=0)\n",
        "\n",
        "    \n",
        "    index = list(np.argsort(ensemble_distances)[:, :n_songs][0])\n",
        "    rec_songs = spotify_data.iloc[index]\n",
        "    song_list_df = pd.DataFrame(song_list) # Convert song_list to a DataFrame\n",
        "    rec_songs = rec_songs[~rec_songs['id'].isin(song_list_df['id'])] # Use song_list_df instead of song_list\n",
        "    recommended_songs = rec_songs[metadata_cols].to_dict(orient='records')\n",
        "    Song_df = pd.DataFrame(recommended_songs)\n",
        "\n",
        "    \n",
        "    \n",
        "    \n",
        "    \n",
        "    \n",
        "    filtered_songs = Song_df\n",
        "    \n",
        "    \n",
        "    \n",
        "    if explicit_filter is not None:\n",
        "        filtered_songs = check_explicit(Song_df, explicit_filter)\n",
        "    \n",
        "    \n",
        "    if release_year_filter is not None:\n",
        "        filtered_songs = release_year_filter_fun(filtered_songs, release_year_filter['start_year'],release_year_filter['end_year'])\n",
        "            \n",
        "    if tempo_filter is not None:\n",
        "        filtered_songs = tempo_class_filter(filtered_songs, tempo_filter)\n",
        "    \n",
        "    \n",
        "    return filtered_songs[:10] # To-do: List of IDs"
      ]
    },
    {
      "cell_type": "code",
      "execution_count": 82,
      "metadata": {},
      "outputs": [
        {
          "name": "stdout",
          "output_type": "stream",
          "text": [
            "Requirement already satisfied: scipy in /Users/pranavpadhiyar/miniforge3/envs/tf_gpu_2/lib/python3.10/site-packages (1.10.1)\n",
            "Requirement already satisfied: numpy<1.27.0,>=1.19.5 in /Users/pranavpadhiyar/miniforge3/envs/tf_gpu_2/lib/python3.10/site-packages (from scipy) (1.23.2)\n"
          ]
        }
      ],
      "source": [
        "!pip install scipy"
      ]
    },
    {
      "cell_type": "code",
      "execution_count": 83,
      "metadata": {},
      "outputs": [],
      "source": [
        "input = {\n",
        "    'songs': [\n",
        "        {\n",
        "            \"acousticness\": 0.305,\n",
        "            \"analysis_url\": \"https://api.spotify.com/v1/audio-analysis/6VbmeIWTbNHM5uqoW7GTE4\",\n",
        "            \"danceability\": 0.803,\n",
        "            \"duration_ms\": 281707,\n",
        "            \"energy\": 0.859,\n",
        "            \"explicit\": 0,\n",
        "            \"id\": \"6VbmeIWTbNHM5uqoW7GTE4\",\n",
        "            \"instrumentalness\": 0.0000618,\n",
        "            \"key\": 6,\n",
        "            \"liveness\": 0.553,\n",
        "            \"loudness\": -4.405,\n",
        "            \"mode\": 0,\n",
        "            \"popularity\": 66,\n",
        "            \"speechiness\": 0.185,\n",
        "            \"tempo\": 101.007,\n",
        "            \"time_signature\": 4,\n",
        "            \"track_href\": \"https://api.spotify.com/v1/tracks/6VbmeIWTbNHM5uqoW7GTE4\",\n",
        "            \"type\": \"audio_features\",\n",
        "            \"uri\": \"spotify:track:6VbmeIWTbNHM5uqoW7GTE4\",\n",
        "            \"valence\": 0.631,\n",
        "            \"year\": 2010\n",
        "        },\n",
        "        {\n",
        "            \"acousticness\": 0.0696,\n",
        "            \"analysis_url\": \"https://api.spotify.com/v1/audio-analysis/0EH7sgeiFqDa3eS7ieW2zs\",\n",
        "            \"danceability\": 0.742,\n",
        "            \"duration_ms\": 227091,\n",
        "            \"energy\": 0.879,\n",
        "            \"explicit\": 0,\n",
        "            \"id\": \"0EH7sgeiFqDa3eS7ieW2zs\",\n",
        "            \"instrumentalness\": 0.00000717,\n",
        "            \"key\": 0,\n",
        "            \"liveness\": 0.0981,\n",
        "            \"loudness\": -4.274,\n",
        "            \"mode\": 0,\n",
        "            \"popularity\": 73,\n",
        "            \"speechiness\": 0.0328,\n",
        "            \"tempo\": 133.946,\n",
        "            \"time_signature\": 4,\n",
        "            \"track_href\": \"https://api.spotify.com/v1/tracks/0EH7sgeiFqDa3eS7ieW2zs\",\n",
        "            \"type\": \"audio_features\",\n",
        "            \"uri\": \"spotify:track:0EH7sgeiFqDa3eS7ieW2zs\",\n",
        "            \"valence\": 0.936,\n",
        "            \"year\": 2011\n",
        "        }, \n",
        "        {\n",
        "            \"acousticness\": 0.0188,\n",
        "            \"analysis_url\": \"https://api.spotify.com/v1/audio-analysis/5Rn1DPzSzUktbhuNDDJocS\",\n",
        "            \"danceability\": 0.715,\n",
        "            \"duration_ms\": 222133,\n",
        "            \"energy\": 0.864,\n",
        "            \"explicit\": 0,\n",
        "            \"id\": \"5Rn1DPzSzUktbhuNDDJocS\",\n",
        "            \"instrumentalness\": 0,\n",
        "            \"key\": 11,\n",
        "            \"liveness\": 0.719,\n",
        "            \"loudness\": -5.013,\n",
        "            \"mode\": 0,\n",
        "            \"popularity\": 62,\n",
        "            \"speechiness\": 0.0751,\n",
        "            \"tempo\": 122.016,\n",
        "            \"time_signature\": 4,\n",
        "            \"track_href\": \"https://api.spotify.com/v1/tracks/5Rn1DPzSzUktbhuNDDJocS\",\n",
        "            \"type\": \"audio_features\",\n",
        "            \"uri\": \"spotify:track:5Rn1DPzSzUktbhuNDDJocS\",\n",
        "            \"valence\": 0.57,\n",
        "            \"year\": 2012\n",
        "        },\n",
        "        {\n",
        "            \"acousticness\": 0.464,\n",
        "            \"analysis_url\": \"https://api.spotify.com/v1/audio-analysis/0MbOLfDcGk8ROHJYXJHu5c\",\n",
        "            \"danceability\": 0.833,\n",
        "            \"duration_ms\": 171273,\n",
        "            \"energy\": 0.678,\n",
        "            \"explicit\": 1,\n",
        "            \"id\": \"0MbOLfDcGk8ROHJYXJHu5c\",\n",
        "            \"instrumentalness\": 0,\n",
        "            \"key\": 9,\n",
        "            \"liveness\": 0.107,\n",
        "            \"loudness\": -3.711,\n",
        "            \"mode\": 0,\n",
        "            \"popularity\": 73,\n",
        "            \"speechiness\": 0.141,\n",
        "            \"tempo\": 109.969,\n",
        "            \"time_signature\": 4,\n",
        "            \"track_href\": \"https://api.spotify.com/v1/tracks/0MbOLfDcGk8ROHJYXJHu5c\",\n",
        "            \"type\": \"audio_features\",\n",
        "            \"uri\": \"spotify:track:0MbOLfDcGk8ROHJYXJHu5c\",\n",
        "            \"valence\": 0.576,\n",
        "            \"year\": 2023\n",
        "        },\n",
        "        {\n",
        "            \"acousticness\": 0.166,\n",
        "            \"analysis_url\": \"https://api.spotify.com/v1/audio-analysis/1NxlktIRgiAPJ8U06v9veI\",\n",
        "            \"danceability\": 0.833,\n",
        "            \"duration_ms\": 223992,\n",
        "            \"energy\": 0.74,\n",
        "            \"explicit\": 0,\n",
        "            \"id\": \"1NxlktIRgiAPJ8U06v9veI\",\n",
        "            \"instrumentalness\": 0.00000274,\n",
        "            \"key\": 6,\n",
        "            \"liveness\": 0.363,\n",
        "            \"loudness\": -4.513,\n",
        "            \"mode\": 0,\n",
        "            \"popularity\": 57,\n",
        "            \"speechiness\": 0.129,\n",
        "            \"tempo\": 103.035,\n",
        "            \"time_signature\": 4,\n",
        "            \"track_href\": \"https://api.spotify.com/v1/tracks/1NxlktIRgiAPJ8U06v9veI\",\n",
        "            \"type\": \"audio_features\",\n",
        "            \"uri\": \"spotify:track:1NxlktIRgiAPJ8U06v9veI\",\n",
        "            \"valence\": 0.804,\n",
        "            \"year\": 2014\n",
        "        }\n",
        "    ],\n",
        "    'explicit': 0, # 0 / 1\n",
        "    'release_year': {\n",
        "        'start_year': 1980,\n",
        "        'end_year': 2010\n",
        "    },\n",
        "    'tempo': 2, # 0, 1, 2\n",
        "}"
      ]
    },
    {
      "cell_type": "code",
      "execution_count": 84,
      "metadata": {},
      "outputs": [],
      "source": [
        "song_list = input['songs']\n",
        "explicit_filter = input['explicit']\n",
        "release_year_filter = input['release_year']\n",
        "tempo_filter = input['tempo']"
      ]
    },
    {
      "cell_type": "code",
      "execution_count": 85,
      "metadata": {},
      "outputs": [
        {
          "name": "stdout",
          "output_type": "stream",
          "text": [
            "{'acousticness': 0.305, 'analysis_url': 'https://api.spotify.com/v1/audio-analysis/6VbmeIWTbNHM5uqoW7GTE4', 'danceability': 0.803, 'duration_ms': 281707, 'energy': 0.859, 'explicit': 0, 'id': '6VbmeIWTbNHM5uqoW7GTE4', 'instrumentalness': 6.18e-05, 'key': 6, 'liveness': 0.553, 'loudness': -4.405, 'mode': 0, 'popularity': 66, 'speechiness': 0.185, 'tempo': 101.007, 'time_signature': 4, 'track_href': 'https://api.spotify.com/v1/tracks/6VbmeIWTbNHM5uqoW7GTE4', 'type': 'audio_features', 'uri': 'spotify:track:6VbmeIWTbNHM5uqoW7GTE4', 'valence': 0.631, 'year': 2010}\n",
            "<class 'numpy.ndarray'>\n",
            "<class 'numpy.ndarray'>\n",
            "<class 'numpy.ndarray'>\n",
            "<class 'numpy.ndarray'>\n",
            "<class 'numpy.ndarray'>\n",
            "<class 'list'>\n",
            "song_center [ 6.620000e+01  2.252392e+05  2.000000e-01  7.852000e-01  8.040000e-01\n",
            "  6.400000e+00 -4.383200e+00  0.000000e+00  1.125800e-01  2.046800e-01\n",
            "  1.434200e-05  3.680200e-01  7.034000e-01  1.139946e+02  4.000000e+00\n",
            "  2.014000e+03]\n"
          ]
        },
        {
          "name": "stderr",
          "output_type": "stream",
          "text": [
            "/Users/pranavpadhiyar/miniforge3/envs/tf_gpu_2/lib/python3.10/site-packages/sklearn/base.py:439: UserWarning:\n",
            "\n",
            "X does not have valid feature names, but StandardScaler was fitted with feature names\n",
            "\n"
          ]
        }
      ],
      "source": [
        "Songs_list = recommend_songs(song_list,tracks_data,explicit_filter=explicit_filter, release_year_filter=release_year_filter, tempo_filter=tempo_filter)"
      ]
    },
    {
      "cell_type": "code",
      "execution_count": 86,
      "metadata": {},
      "outputs": [
        {
          "data": {
            "text/html": [
              "<div>\n",
              "<style scoped>\n",
              "    .dataframe tbody tr th:only-of-type {\n",
              "        vertical-align: middle;\n",
              "    }\n",
              "\n",
              "    .dataframe tbody tr th {\n",
              "        vertical-align: top;\n",
              "    }\n",
              "\n",
              "    .dataframe thead th {\n",
              "        text-align: right;\n",
              "    }\n",
              "</style>\n",
              "<table border=\"1\" class=\"dataframe\">\n",
              "  <thead>\n",
              "    <tr style=\"text-align: right;\">\n",
              "      <th></th>\n",
              "      <th>name</th>\n",
              "      <th>year</th>\n",
              "      <th>artists</th>\n",
              "      <th>explicit</th>\n",
              "      <th>tempo</th>\n",
              "      <th>tempo_class</th>\n",
              "      <th>id</th>\n",
              "    </tr>\n",
              "  </thead>\n",
              "  <tbody>\n",
              "    <tr>\n",
              "      <th>40</th>\n",
              "      <td>Right Now (Na Na Na)</td>\n",
              "      <td>2008</td>\n",
              "      <td>['Akon']</td>\n",
              "      <td>0</td>\n",
              "      <td>137.982</td>\n",
              "      <td>class3</td>\n",
              "      <td>2VqAEP1yY5T523K7bZtL8a</td>\n",
              "    </tr>\n",
              "    <tr>\n",
              "      <th>116</th>\n",
              "      <td>Bu Gece</td>\n",
              "      <td>2006</td>\n",
              "      <td>['Gülşen']</td>\n",
              "      <td>0</td>\n",
              "      <td>130.015</td>\n",
              "      <td>class3</td>\n",
              "      <td>7LGhzpvEpVotkF8JuX3aU6</td>\n",
              "    </tr>\n",
              "    <tr>\n",
              "      <th>169</th>\n",
              "      <td>Vieni A Ballare In Puglia</td>\n",
              "      <td>2008</td>\n",
              "      <td>['Caparezza']</td>\n",
              "      <td>0</td>\n",
              "      <td>140.033</td>\n",
              "      <td>class3</td>\n",
              "      <td>7IBGw13AbUorsu133u6Q0Z</td>\n",
              "    </tr>\n",
              "    <tr>\n",
              "      <th>171</th>\n",
              "      <td>Bagsakan</td>\n",
              "      <td>2005</td>\n",
              "      <td>['Parokya Ni Edgar', 'Francis M.', 'Gloc 9', '...</td>\n",
              "      <td>0</td>\n",
              "      <td>135.005</td>\n",
              "      <td>class3</td>\n",
              "      <td>6379OM1UeWonOckjr8ikLh</td>\n",
              "    </tr>\n",
              "    <tr>\n",
              "      <th>196</th>\n",
              "      <td>Der letzte Tag</td>\n",
              "      <td>2008</td>\n",
              "      <td>['Peter Fox']</td>\n",
              "      <td>0</td>\n",
              "      <td>144.874</td>\n",
              "      <td>class3</td>\n",
              "      <td>4tlqa6eVIj0HzjlrASAcpu</td>\n",
              "    </tr>\n",
              "    <tr>\n",
              "      <th>268</th>\n",
              "      <td>Everybody in Love</td>\n",
              "      <td>2009</td>\n",
              "      <td>['JLS']</td>\n",
              "      <td>0</td>\n",
              "      <td>139.975</td>\n",
              "      <td>class3</td>\n",
              "      <td>2iLN22AngD3PTsbvBu5ypL</td>\n",
              "    </tr>\n",
              "    <tr>\n",
              "      <th>288</th>\n",
              "      <td>Let's Get Loud</td>\n",
              "      <td>1999</td>\n",
              "      <td>['Jennifer Lopez']</td>\n",
              "      <td>0</td>\n",
              "      <td>130.993</td>\n",
              "      <td>class3</td>\n",
              "      <td>42nSaPdT6g3ZIMHmKLlP2p</td>\n",
              "    </tr>\n",
              "    <tr>\n",
              "      <th>322</th>\n",
              "      <td>Turn Around - Radio Edit</td>\n",
              "      <td>1999</td>\n",
              "      <td>['Phats &amp; Small', 'Toney Lee']</td>\n",
              "      <td>0</td>\n",
              "      <td>131.932</td>\n",
              "      <td>class3</td>\n",
              "      <td>2nx86MrPkXWQctveAEFJBf</td>\n",
              "    </tr>\n",
              "    <tr>\n",
              "      <th>340</th>\n",
              "      <td>Ni Una Sola Palabra</td>\n",
              "      <td>2006</td>\n",
              "      <td>['Paulina Rubio']</td>\n",
              "      <td>0</td>\n",
              "      <td>130.097</td>\n",
              "      <td>class3</td>\n",
              "      <td>1JLB67iNVIOs6NCiMAB1Fo</td>\n",
              "    </tr>\n",
              "    <tr>\n",
              "      <th>365</th>\n",
              "      <td>No Moriré</td>\n",
              "      <td>2010</td>\n",
              "      <td>['Héctor Acosta \"El Torito\"']</td>\n",
              "      <td>0</td>\n",
              "      <td>130.140</td>\n",
              "      <td>class3</td>\n",
              "      <td>0JVtj37cJp8ddev6OJtQW5</td>\n",
              "    </tr>\n",
              "  </tbody>\n",
              "</table>\n",
              "</div>"
            ],
            "text/plain": [
              "                          name  year  \\\n",
              "40        Right Now (Na Na Na)  2008   \n",
              "116                    Bu Gece  2006   \n",
              "169  Vieni A Ballare In Puglia  2008   \n",
              "171                   Bagsakan  2005   \n",
              "196             Der letzte Tag  2008   \n",
              "268          Everybody in Love  2009   \n",
              "288             Let's Get Loud  1999   \n",
              "322   Turn Around - Radio Edit  1999   \n",
              "340        Ni Una Sola Palabra  2006   \n",
              "365                  No Moriré  2010   \n",
              "\n",
              "                                               artists  explicit    tempo  \\\n",
              "40                                            ['Akon']         0  137.982   \n",
              "116                                         ['Gülşen']         0  130.015   \n",
              "169                                      ['Caparezza']         0  140.033   \n",
              "171  ['Parokya Ni Edgar', 'Francis M.', 'Gloc 9', '...         0  135.005   \n",
              "196                                      ['Peter Fox']         0  144.874   \n",
              "268                                            ['JLS']         0  139.975   \n",
              "288                                 ['Jennifer Lopez']         0  130.993   \n",
              "322                     ['Phats & Small', 'Toney Lee']         0  131.932   \n",
              "340                                  ['Paulina Rubio']         0  130.097   \n",
              "365                      ['Héctor Acosta \"El Torito\"']         0  130.140   \n",
              "\n",
              "    tempo_class                      id  \n",
              "40       class3  2VqAEP1yY5T523K7bZtL8a  \n",
              "116      class3  7LGhzpvEpVotkF8JuX3aU6  \n",
              "169      class3  7IBGw13AbUorsu133u6Q0Z  \n",
              "171      class3  6379OM1UeWonOckjr8ikLh  \n",
              "196      class3  4tlqa6eVIj0HzjlrASAcpu  \n",
              "268      class3  2iLN22AngD3PTsbvBu5ypL  \n",
              "288      class3  42nSaPdT6g3ZIMHmKLlP2p  \n",
              "322      class3  2nx86MrPkXWQctveAEFJBf  \n",
              "340      class3  1JLB67iNVIOs6NCiMAB1Fo  \n",
              "365      class3  0JVtj37cJp8ddev6OJtQW5  "
            ]
          },
          "execution_count": 86,
          "metadata": {},
          "output_type": "execute_result"
        }
      ],
      "source": [
        "Songs_list"
      ]
    },
    {
      "cell_type": "code",
      "execution_count": null,
      "metadata": {},
      "outputs": [],
      "source": []
    }
  ],
  "metadata": {
    "accelerator": "GPU",
    "colab": {
      "provenance": []
    },
    "gpuClass": "standard",
    "kernelspec": {
      "display_name": "Python 3.10.10",
      "language": "python",
      "name": "python3"
    },
    "language_info": {
      "codemirror_mode": {
        "name": "ipython",
        "version": 3
      },
      "file_extension": ".py",
      "mimetype": "text/x-python",
      "name": "python",
      "nbconvert_exporter": "python",
      "pygments_lexer": "ipython3",
      "version": "3.10.10"
    },
    "vscode": {
      "interpreter": {
        "hash": "d9525668637750a96244cc0ce39f7efe1d4b7ae9e7de00023a7e96b2a14c6957"
      }
    }
  },
  "nbformat": 4,
  "nbformat_minor": 0
}
